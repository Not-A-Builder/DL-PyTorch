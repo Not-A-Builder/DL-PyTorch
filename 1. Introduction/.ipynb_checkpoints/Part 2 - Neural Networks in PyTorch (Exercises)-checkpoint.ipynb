{
 "cells": [
  {
   "cell_type": "markdown",
   "metadata": {},
   "source": [
    "# Neural networks with PyTorch\n",
    "\n",
    "Deep learning networks tend to be massive with dozens or hundreds of layers, that's where the term \"deep\" comes from. You can build one of these deep networks using only weight matrices as we did in the previous notebook, but in general it's very cumbersome and difficult to implement. PyTorch has a nice module `nn` that provides a nice way to efficiently build large neural networks."
   ]
  },
  {
   "cell_type": "code",
   "execution_count": 1,
   "metadata": {},
   "outputs": [],
   "source": [
    "# Import necessary packages\n",
    "\n",
    "%matplotlib inline\n",
    "%config InlineBackend.figure_format = 'retina'\n",
    "\n",
    "import numpy as np\n",
    "import torch\n",
    "\n",
    "import helper\n",
    "\n",
    "import matplotlib.pyplot as plt"
   ]
  },
  {
   "cell_type": "markdown",
   "metadata": {},
   "source": [
    "\n",
    "Now we're going to build a larger network that can solve a (formerly) difficult problem, identifying text in an image. Here we'll use the MNIST dataset which consists of greyscale handwritten digits. Each image is 28x28 pixels, you can see a sample below\n",
    "\n",
    "<img src='assets/mnist.png'>\n",
    "\n",
    "Our goal is to build a neural network that can take one of these images and predict the digit in the image.\n",
    "\n",
    "First up, we need to get our dataset. This is provided through the `torchvision` package. The code below will download the MNIST dataset, then create training and test datasets for us. Don't worry too much about the details here, you'll learn more about this later."
   ]
  },
  {
   "cell_type": "code",
   "execution_count": 2,
   "metadata": {},
   "outputs": [
    {
     "name": "stdout",
     "output_type": "stream",
     "text": [
      "Downloading http://yann.lecun.com/exdb/mnist/train-images-idx3-ubyte.gz\n",
      "Downloading http://yann.lecun.com/exdb/mnist/train-labels-idx1-ubyte.gz\n",
      "Downloading http://yann.lecun.com/exdb/mnist/t10k-images-idx3-ubyte.gz\n",
      "Downloading http://yann.lecun.com/exdb/mnist/t10k-labels-idx1-ubyte.gz\n",
      "Processing...\n",
      "Done!\n"
     ]
    }
   ],
   "source": [
    "### Run this cell\n",
    "\n",
    "from torchvision import datasets, transforms\n",
    "\n",
    "# Define a transform to normalize the data\n",
    "transform = transforms.Compose([transforms.ToTensor(),\n",
    "                              transforms.Normalize((0.5,), (0.5,)),\n",
    "                              ])\n",
    "\n",
    "# Download and load the training data\n",
    "trainset = datasets.MNIST('~/.pytorch/MNIST_data/', download=True, train=True, transform=transform)\n",
    "trainloader = torch.utils.data.DataLoader(trainset, batch_size=64, shuffle=True)"
   ]
  },
  {
   "cell_type": "markdown",
   "metadata": {},
   "source": [
    "We have the training data loaded into `trainloader` and we make that an iterator with `iter(trainloader)`. Later, we'll use this to loop through the dataset for training, like\n",
    "\n",
    "```python\n",
    "for image, label in trainloader:\n",
    "    ## do things with images and labels\n",
    "```\n",
    "\n",
    "You'll notice I created the `trainloader` with a batch size of 64, and `shuffle=True`. The batch size is the number of images we get in one iteration from the data loader and pass through our network, often called a *batch*. And `shuffle=True` tells it to shuffle the dataset every time we start going through the data loader again. But here I'm just grabbing the first batch so we can check out the data. We can see below that `images` is just a tensor with size `(64, 1, 28, 28)`. So, 64 images per batch, 1 color channel, and 28x28 images."
   ]
  },
  {
   "cell_type": "code",
   "execution_count": 3,
   "metadata": {},
   "outputs": [
    {
     "name": "stdout",
     "output_type": "stream",
     "text": [
      "<class 'torch.Tensor'>\n",
      "torch.Size([64, 1, 28, 28])\n",
      "torch.Size([64])\n"
     ]
    }
   ],
   "source": [
    "dataiter = iter(trainloader)\n",
    "images, labels = dataiter.next()\n",
    "print(type(images))\n",
    "print(images.shape)\n",
    "print(labels.shape)"
   ]
  },
  {
   "cell_type": "markdown",
   "metadata": {},
   "source": [
    "This is what one of the images looks like. "
   ]
  },
  {
   "cell_type": "code",
   "execution_count": 4,
   "metadata": {},
   "outputs": [
    {
     "data": {
      "image/png": "[encoded data removed]",
      "text/plain": [
       "<Figure size 432x288 with 1 Axes>"
      ]
     },
     "metadata": {
      "image/png": {
       "height": 250,
       "width": 253
      }
     },
     "output_type": "display_data"
    }
   ],
   "source": [
    "plt.imshow(images[1].numpy().squeeze(), cmap='Greys_r');"
   ]
  },
  {
   "cell_type": "markdown",
   "metadata": {},
   "source": [
    "First, let's try to build a simple network for this dataset using weight matrices and matrix multiplications. Then, we'll see how to do it using PyTorch's `nn` module which provides a much more convenient and powerful method for defining network architectures.\n",
    "\n",
    "The networks you've seen so far are called *fully-connected* or *dense* networks. Each unit in one layer is connected to each unit in the next layer. In fully-connected networks, the input to each layer must be a one-dimensional vector (which can be stacked into a 2D tensor as a batch of multiple examples). However, our images are 28x28 2D tensors, so we need to convert them into 1D vectors. Thinking about sizes, we need to convert the batch of images with shape `(64, 1, 28, 28)` to a have a shape of `(64, 784)`, 784 is 28 times 28. This is typically called *flattening*, we flattened the 2D images into 1D vectors.\n",
    "\n",
    "Previously you built a network with one output unit. Here we need 10 output units, one for each digit. We want our network to predict the digit shown in an image, so what we'll do is calculate probabilities that the image is of any one digit or class. This ends up being a discrete probability distribution over the classes (digits) that tells us the most likely class for the image. That means we need 10 output units for the 10 classes (digits). We'll see how to convert the network output into a probability distribution next.\n",
    "\n",
    "> **Exercise:** Flatten the batch of images `images`. Then build a multi-layer network with 784 input units, 256 hidden units, and 10 output units using random tensors for the weights and biases. For now, use a sigmoid activation for the hidden layer. Leave the output layer without an activation, we'll add one that gives us a probability distribution next."
   ]
  },
  {
   "cell_type": "code",
   "execution_count": 6,
   "metadata": {},
   "outputs": [
    {
     "name": "stdout",
     "output_type": "stream",
     "text": [
      "tensor([[ -9.8113,  11.0411, -11.2852,   1.4049, -12.0662,  -5.7323,   1.9638,\n",
      "           2.4578,  -8.1254,   8.6227],\n",
      "        [ -6.3680,  13.9827, -12.5216,  -3.3574, -14.0554,  -4.2949, -10.0603,\n",
      "          -1.1370,   1.5376,   0.4752],\n",
      "        [-14.9607,   6.6041, -15.8736,  -9.0181, -10.5275,  -1.9695, -14.8387,\n",
      "          -0.2241,   2.1044, -14.5248],\n",
      "        [-14.3892,  11.6247, -16.1413,   1.8296,  -7.0715,  -5.9518,   1.6028,\n",
      "          -6.0550,  -0.2102, -16.9822],\n",
      "        [-16.2631,  10.9114, -16.1536,  -8.2384,  -7.9602,   3.3449,  -5.2438,\n",
      "         -12.0763, -13.0203,  -9.2356],\n",
      "        [-11.3849,   2.8131, -14.5198,  -4.6214,  -7.8210,  -0.0948,  -3.8177,\n",
      "         -11.3274, -12.0363,  -7.2133],\n",
      "        [-14.8616,  20.6836, -10.9655,  -2.1200,  -5.9732,  -7.4688,  -5.5034,\n",
      "           0.8449,  -1.5522, -23.6897],\n",
      "        [-11.1620,  16.9039,  -9.9847,  -0.1474,  -7.4267,  -9.8885,   7.8165,\n",
      "          -1.5572, -11.8490,  -1.7907],\n",
      "        [-10.0685,  11.2922,  -5.4295,  -2.2019,  -2.9768,   1.9768, -12.4033,\n",
      "          -3.3675,  -3.4543,  -3.3163],\n",
      "        [ -7.3878,  13.6908,  -8.1244,   6.7291, -13.2765,  -3.2247,  -0.1052,\n",
      "          10.1695,  -1.8575,   2.6344],\n",
      "        [-14.6956,   5.5191, -19.3645,  -3.7690,  -3.7753,  -4.4156,  -0.2803,\n",
      "          -2.1296,  -5.2837,  -7.2034],\n",
      "        [ -7.1033,   6.9197,  -8.5443, -13.7269, -12.2902,  -8.9230,  -6.2895,\n",
      "           0.0141,  -1.0602,  -7.9002],\n",
      "        [-14.8963,   9.9604, -15.2827,  -0.7040,  -8.3947,  -2.4198, -13.1589,\n",
      "           5.7823,  -5.5893,  -3.1886],\n",
      "        [ -5.1688,  10.3301, -10.5653,  -4.9409,   3.0982,  -8.3572,  -8.7136,\n",
      "          -1.2824,  -9.1381,  -8.5249],\n",
      "        [ -6.9175,  16.3616,  -9.4344,  -6.9074,  -9.4000,   1.0369,   2.0773,\n",
      "          -3.5345,  -2.2222, -11.0305],\n",
      "        [ -6.1561,  14.6275,  -4.0091,  -6.5101, -11.1015,  -2.8429,   2.7372,\n",
      "           2.8516,  -7.4970,  -2.1804],\n",
      "        [-12.8048,   9.1814,  -9.1781,  -3.5080,  -4.0153,   0.8719, -13.9531,\n",
      "           4.8175,   5.4332,  -8.6539],\n",
      "        [ -8.6699,   6.6753, -13.4932,  -2.1244,  -6.4101,   1.6496, -12.3017,\n",
      "           2.5594,  -9.0625,  -5.3086],\n",
      "        [ -4.7474,   6.8744,  -9.0644,  -0.7847,  -7.1499,  -4.7536,   2.7716,\n",
      "          -9.6380,   1.1620,  -5.3106],\n",
      "        [-14.1594,  21.7686,  -5.1959,  -5.3427, -12.7551,   6.2773,  12.4289,\n",
      "          15.9172,  -5.8593,   5.1728],\n",
      "        [-12.6007,   2.9624, -13.7652,  -1.5766,  -6.9411,   9.7371,  -2.9155,\n",
      "          -6.1684,  -5.5595,  -9.3437],\n",
      "        [-11.8974,  17.7807, -16.5382,  -2.3746,  -9.8129,  -8.8673,  -0.7059,\n",
      "           1.2021, -10.3415, -10.6916],\n",
      "        [-11.5106,  15.4762, -13.8841,  -8.3544, -15.1163,  -4.1603, -10.5284,\n",
      "          -0.2276,   0.8339,  -3.2191],\n",
      "        [-16.1818,  14.3555, -14.0413,   0.1140,  -5.9971,  -6.5933,   1.9333,\n",
      "          -8.0025,  -5.9007,  -3.4871],\n",
      "        [-12.3097,  13.4263,  -9.1618,   0.7040, -11.1784,  -4.1316,  -1.9045,\n",
      "          -1.4002,  -0.9170,  -4.5740],\n",
      "        [ -7.7895,  14.8512,   0.1970,  -6.8684, -10.3910,  -8.4483,   7.0858,\n",
      "          15.7156,  -6.9765,  -3.2776],\n",
      "        [-11.4342,  16.0838,  -7.2138,  -0.5275,  -8.7985,  -0.0242,  -3.8890,\n",
      "           1.2841,  -4.2268,  -6.4566],\n",
      "        [  2.5662,  13.9253,  -3.3004,  -3.1522,  -1.7770,   5.3142,  -5.0393,\n",
      "          -3.4941, -11.3198,  12.4688],\n",
      "        [-14.1992,  -1.2608, -16.9568,   0.1997,  -2.3769,  -0.7938,  -6.8755,\n",
      "           2.4898,   1.0472, -11.4685],\n",
      "        [-12.6467,  -1.7477,  -2.0785,  -3.4099,  -2.3046,  -3.2199,  -7.2291,\n",
      "           2.9638,  -5.0182,  -6.7165],\n",
      "        [ -9.7172,  16.6044,  -2.9051,   2.2904, -15.7383, -10.3900,   6.5738,\n",
      "           3.5675,  -3.0962,  13.3929],\n",
      "        [-16.6702,  11.6502, -22.1955,  -0.1683, -12.0984,  -2.8142,  -8.6110,\n",
      "          -0.2058,  -2.5997, -12.2781],\n",
      "        [ -8.9491,  12.2258,  -8.4638,  -5.8097,  -0.9231,  -5.0101, -20.5576,\n",
      "           6.0491,  15.1731,  -2.0930],\n",
      "        [-17.3596,   6.9328, -24.2783,  -3.9223,  -3.4757,  -5.4945,  -0.7951,\n",
      "          -1.8687,  -4.1048, -12.3514],\n",
      "        [-11.1733,   4.4743,  -7.3116,  -0.4728,  -7.0358,  -4.7249,  -8.1515,\n",
      "          -5.9801,  -1.5525,   0.9626],\n",
      "        [-18.3222,   9.8161, -20.6174,  -6.5958, -19.2354,  -3.8136,   1.8107,\n",
      "          14.4347, -15.5505,  -0.7198],\n",
      "        [-12.6591,   8.1283, -24.0067,  -3.8154,  -8.7873,  -9.0999,   1.7414,\n",
      "           6.9700,   4.7692,  -5.7542],\n",
      "        [-16.4748,   6.5222, -24.8061,   0.4817, -12.8967,  -1.1169,  -2.5076,\n",
      "           2.2103,  -7.4745, -10.1510],\n",
      "        [-10.3703,  19.9251,  -5.8366,   1.6844,  -8.1555,  -1.9976,  -9.4826,\n",
      "          -1.8026,  -4.2984,   5.7215],\n",
      "        [ -8.4218,  16.9457,  -1.0984,   1.5846,  -3.6819,  -8.2636,   0.3029,\n",
      "           2.5915,   1.3600,  -2.9452],\n",
      "        [-11.6969,  12.7674, -13.2675,  -1.7315,  -4.5050,  -3.3854,  -7.9205,\n",
      "          -2.9976,  -8.6648,  -8.5877],\n",
      "        [ -3.7631,  24.6917,  -2.7674,   9.4128, -11.5193, -10.2846,  -4.9503,\n",
      "           8.9796, -12.3554,   7.6562],\n",
      "        [-10.6256,   7.8360,  -7.9184, -17.4688,   0.6681,  11.2885, -14.6460,\n",
      "           7.2737,  -1.8473,   6.3512],\n",
      "        [-13.5883,   2.3377, -19.7767,   5.9394, -13.0617,  -7.8117,  11.4415,\n",
      "          -7.7013,  -1.0405,  -3.9680],\n",
      "        [ -8.0882,   8.0780, -11.6565,  -0.1232,  -5.9415,  -4.3494,  -5.3671,\n",
      "           0.5978,   0.9379,  -5.6799],\n",
      "        [ -8.9546,  20.5065,  -6.9876,  -7.5179, -10.4304,  -4.8308,  11.8628,\n",
      "           2.3378,   0.8414,  -7.2233],\n",
      "        [-12.2323,   9.8229, -10.1940,  -6.6100,  -9.7801,  -0.1819,  -0.5064,\n",
      "          -0.4966,  -7.1015,  -7.2543],\n",
      "        [-14.1569,   6.2753,  -8.2669,  -4.1559, -13.7092,   2.6996,  -2.3793,\n",
      "          -0.7351,  -1.4371,  -6.4978],\n",
      "        [-16.4365,   8.2630, -14.2611,   2.7705,  -7.2479,  -5.2958,   5.2826,\n",
      "          -2.2692,  -9.5636,  -1.4475],\n",
      "        [-13.6160,  18.9161, -12.9775,  -0.4369, -21.6860,  -6.8732,  -5.8708,\n",
      "           0.1406,   6.1887,  -4.2953],\n",
      "        [-13.0988,  22.0446,  -9.3918,   1.0052, -13.2041,  -4.3200,  -2.4458,\n",
      "          -1.2561,  -4.7065,  -0.3406],\n",
      "        [ -5.5715,   4.9080, -14.6378,  -1.1274, -18.8959,   1.4908, -16.8620,\n",
      "           3.8449,  -0.5967,  -8.5810],\n",
      "        [ -8.7325,   8.1540, -10.5969,  -2.5715, -20.4146,  -8.6320, -15.5344,\n",
      "          -6.1413,  -4.9017,  -9.3323],\n",
      "        [-12.7007,   6.3349, -11.6638,   4.7229, -13.2050, -10.9736,  -9.7950,\n",
      "           1.8981, -17.6427,  -4.9487],\n",
      "        [-14.7859,  12.1778,  -7.0909,  -4.8360,  -5.7854,  -4.0831,  -4.0717,\n",
      "         -12.9380,  -8.2707,  -5.9247],\n",
      "        [-15.2348,  14.3763, -14.1871,  -6.1215,  -4.3372,  -2.2043, -13.1494,\n",
      "           2.2705,   7.1539, -13.6222],\n",
      "        [ -8.3572,  11.9974, -14.3546,  -4.1334,   4.1471,  -1.9898,  -8.0232,\n",
      "           3.9647, -10.5150,  -8.7115],\n",
      "        [ -9.4455,   7.4703, -16.3322,   0.0078,  -4.6095,   1.1049,   0.3315,\n",
      "          -4.1012,   1.5441,  -9.1118],\n",
      "        [-14.0042,   4.7089, -20.5865,  -3.9535,  -6.2039,  -3.1636,  -3.3496,\n",
      "          -6.4059,   5.2648,  -6.1133],\n",
      "        [-14.1227,  10.3976, -10.0463,  -6.4222, -15.5285,  -1.2639,   0.4474,\n",
      "          -2.6597,  -3.4952, -13.2190],\n",
      "        [ -8.9591,  26.5173,  -7.6806,  -1.7716, -14.7400,   3.6298,   9.4219,\n",
      "           6.1216,  -3.4880,  -6.6294],\n",
      "        [-19.5276,  11.7549,  -9.2067,  -7.7139, -10.8681,   1.0902,  -6.4788,\n",
      "          -2.4858,   3.7450, -11.4813],\n",
      "        [-17.7782,  13.7405, -25.8256,  -4.1264,  -6.5013,   2.3054,  -7.6893,\n",
      "           3.6942,  -7.8613,  -7.8733],\n",
      "        [-13.3657,   7.4100, -10.1196,   2.8984, -10.0881,   0.1121,  -6.7240,\n",
      "           0.8052,  -2.2601,  -2.7353]])\n"
     ]
    }
   ],
   "source": [
    "## Your solution\n",
    "\n",
    "def activation(x):\n",
    "    return 1/(1+torch.exp(-x))\n",
    "\n",
    "# Flatten the input images\n",
    "inputs = images.view(images.shape[0], -1)\n",
    "\n",
    "# Create parameters\n",
    "w1 = torch.randn(784, 256)\n",
    "b1 = torch.randn(256)\n",
    "\n",
    "w2 = torch.randn(256, 10)\n",
    "b2 = torch.randn(10)\n",
    "\n",
    "h = activation(torch.mm(inputs, w1) + b1)\n",
    "\n",
    "out = torch.mm(h, w2) + b2\n",
    "print(out)"
   ]
  },
  {
   "cell_type": "markdown",
   "metadata": {},
   "source": [
    "Now we have 10 outputs for our network. We want to pass in an image to our network and get out a probability distribution over the classes that tells us the likely class(es) the image belongs to. Something that looks like this:\n",
    "<img src='assets/image_distribution.png' width=500px>\n",
    "\n",
    "Here we see that the probability for each class is roughly the same. This is representing an untrained network, it hasn't seen any data yet so it just returns a uniform distribution with equal probabilities for each class.\n",
    "\n",
    "To calculate this probability distribution, we often use the [**softmax** function](https://en.wikipedia.org/wiki/Softmax_function). Mathematically this looks like\n",
    "\n",
    "$$\n",
    "\\Large \\sigma(x_i) = \\cfrac{e^{x_i}}{\\sum_k^K{e^{x_k}}}\n",
    "$$\n",
    "\n",
    "What this does is squish each input $x_i$ between 0 and 1 and normalizes the values to give you a proper probability distribution where the probabilites sum up to one.\n",
    "\n",
    "> **Exercise:** Implement a function `softmax` that performs the softmax calculation and returns probability distributions for each example in the batch. Note that you'll need to pay attention to the shapes when doing this. If you have a tensor `a` with shape `(64, 10)` and a tensor `b` with shape `(64,)`, doing `a/b` will give you an error because PyTorch will try to do the division across the columns (called broadcasting) but you'll get a size mismatch. The way to think about this is for each of the 64 examples, you only want to divide by one value, the sum in the denominator. So you need `b` to have a shape of `(64, 1)`. This way PyTorch will divide the 10 values in each row of `a` by the one value in each row of `b`. Pay attention to how you take the sum as well. You'll need to define the `dim` keyword in `torch.sum`. Setting `dim=0` takes the sum across the rows while `dim=1` takes the sum across the columns."
   ]
  },
  {
   "cell_type": "code",
   "execution_count": 10,
   "metadata": {},
   "outputs": [
    {
     "name": "stdout",
     "output_type": "stream",
     "text": [
      "torch.Size([64, 10])\n",
      "tensor([1.0000, 1.0000, 1.0000, 1.0000, 1.0000, 1.0000, 1.0000, 1.0000, 1.0000,\n",
      "        1.0000, 1.0000, 1.0000, 1.0000, 1.0000, 1.0000, 1.0000, 1.0000, 1.0000,\n",
      "        1.0000, 1.0000, 1.0000, 1.0000, 1.0000, 1.0000, 1.0000, 1.0000, 1.0000,\n",
      "        1.0000, 1.0000, 1.0000, 1.0000, 1.0000, 1.0000, 1.0000, 1.0000, 1.0000,\n",
      "        1.0000, 1.0000, 1.0000, 1.0000, 1.0000, 1.0000, 1.0000, 1.0000, 1.0000,\n",
      "        1.0000, 1.0000, 1.0000, 1.0000, 1.0000, 1.0000, 1.0000, 1.0000, 1.0000,\n",
      "        1.0000, 1.0000, 1.0000, 1.0000, 1.0000, 1.0000, 1.0000, 1.0000, 1.0000,\n",
      "        1.0000])\n"
     ]
    }
   ],
   "source": [
    "def softmax(x):\n",
    "    return torch.exp(x)/torch.sum(torch.exp(x), dim=1).view(-1, 1)        # dim=1 takes sum across columns, dim = 0 takes sum across rows\n",
    "\n",
    "# Here, out should be the output of the network in the previous excercise with shape (64,10)\n",
    "probabilities = softmax(out)\n",
    "\n",
    "# Does it have the right shape? Should be (64, 10)\n",
    "print(probabilities.shape)\n",
    "# Does it sum to 1?\n",
    "print(probabilities.sum(dim=1))"
   ]
  },
  {
   "cell_type": "markdown",
   "metadata": {},
   "source": [
    "## Building networks with PyTorch\n",
    "\n",
    "PyTorch provides a module `nn` that makes building networks much simpler. Here I'll show you how to build the same one as above with 784 inputs, 256 hidden units, 10 output units and a softmax output."
   ]
  },
  {
   "cell_type": "code",
   "execution_count": 11,
   "metadata": {},
   "outputs": [],
   "source": [
    "from torch import nn"
   ]
  },
  {
   "cell_type": "code",
   "execution_count": 12,
   "metadata": {},
   "outputs": [],
   "source": [
    "class Network(nn.Module):\n",
    "    def __init__(self):\n",
    "        super().__init__()\n",
    "        \n",
    "        # Inputs to hidden layer linear transformation\n",
    "        self.hidden = nn.Linear(784, 256)\n",
    "        # Output layer, 10 units - one for each digit\n",
    "        self.output = nn.Linear(256, 10)\n",
    "        \n",
    "        # Define sigmoid activation and softmax output \n",
    "        self.sigmoid = nn.Sigmoid()\n",
    "        self.softmax = nn.Softmax(dim=1)\n",
    "        \n",
    "    def forward(self, x):\n",
    "        # Pass the input tensor through each of our operations\n",
    "        x = self.hidden(x)\n",
    "        x = self.sigmoid(x)\n",
    "        x = self.output(x)\n",
    "        x = self.softmax(x)\n",
    "        \n",
    "        return x"
   ]
  },
  {
   "cell_type": "markdown",
   "metadata": {},
   "source": [
    "Let's go through this bit by bit.\n",
    "\n",
    "```python\n",
    "class Network(nn.Module):\n",
    "```\n",
    "\n",
    "Here we're inheriting from `nn.Module`. Combined with `super().__init__()` this creates a class that tracks the architecture and provides a lot of useful methods and attributes. It is mandatory to inherit from `nn.Module` when you're creating a class for your network. The name of the class itself can be anything.\n",
    "\n",
    "```python\n",
    "self.hidden = nn.Linear(784, 256)\n",
    "```\n",
    "\n",
    "This line creates a module for a linear transformation, $x\\mathbf{W} + b$, with 784 inputs and 256 outputs and assigns it to `self.hidden`. The module automatically creates the weight and bias tensors which we'll use in the `forward` method. You can access the weight and bias tensors once the network once it's create at `net.hidden.weight` and `net.hidden.bias`.\n",
    "\n",
    "```python\n",
    "self.output = nn.Linear(256, 10)\n",
    "```\n",
    "\n",
    "Similarly, this creates another linear transformation with 256 inputs and 10 outputs.\n",
    "\n",
    "```python\n",
    "self.sigmoid = nn.Sigmoid()\n",
    "self.softmax = nn.Softmax(dim=1)\n",
    "```\n",
    "\n",
    "Here I defined operations for the sigmoid activation and softmax output. Setting `dim=1` in `nn.Softmax(dim=1)` calculates softmax across the columns.\n",
    "\n",
    "```python\n",
    "def forward(self, x):\n",
    "```\n",
    "\n",
    "PyTorch networks created with `nn.Module` must have a `forward` method defined. It takes in a tensor `x` and passes it through the operations you defined in the `__init__` method.\n",
    "\n",
    "```python\n",
    "x = self.hidden(x)\n",
    "x = self.sigmoid(x)\n",
    "x = self.output(x)\n",
    "x = self.softmax(x)\n",
    "```\n",
    "\n",
    "Here the input tensor `x` is passed through each operation a reassigned to `x`. We can see that the input tensor goes through the hidden layer, then a sigmoid function, then the output layer, and finally the softmax function. It doesn't matter what you name the variables here, as long as the inputs and outputs of the operations match the network architecture you want to build. The order in which you define things in the `__init__` method doesn't matter, but you'll need to sequence the operations correctly in the `forward` method.\n",
    "\n",
    "Now we can create a `Network` object."
   ]
  },
  {
   "cell_type": "code",
   "execution_count": 13,
   "metadata": {},
   "outputs": [
    {
     "data": {
      "text/plain": [
       "Network(\n",
       "  (hidden): Linear(in_features=784, out_features=256, bias=True)\n",
       "  (output): Linear(in_features=256, out_features=10, bias=True)\n",
       "  (sigmoid): Sigmoid()\n",
       "  (softmax): Softmax()\n",
       ")"
      ]
     },
     "execution_count": 13,
     "metadata": {},
     "output_type": "execute_result"
    }
   ],
   "source": [
    "# Create the network and look at it's text representation\n",
    "model = Network()\n",
    "model"
   ]
  },
  {
   "cell_type": "markdown",
   "metadata": {},
   "source": [
    "You can define the network somewhat more concisely and clearly using the `torch.nn.functional` module. This is the most common way you'll see networks defined as many operations are simple element-wise functions. We normally import this module as `F`, `import torch.nn.functional as F`."
   ]
  },
  {
   "cell_type": "code",
   "execution_count": 14,
   "metadata": {},
   "outputs": [],
   "source": [
    "import torch.nn.functional as F\n",
    "\n",
    "class Network(nn.Module):\n",
    "    def __init__(self):\n",
    "        super().__init__()\n",
    "        # Inputs to hidden layer linear transformation\n",
    "        self.hidden = nn.Linear(784, 256)\n",
    "        # Output layer, 10 units - one for each digit\n",
    "        self.output = nn.Linear(256, 10)\n",
    "        \n",
    "    def forward(self, x):\n",
    "        # Hidden layer with sigmoid activation\n",
    "        x = F.sigmoid(self.hidden(x))\n",
    "        # Output layer with softmax activation\n",
    "        x = F.softmax(self.output(x), dim=1)\n",
    "        \n",
    "        return x"
   ]
  },
  {
   "cell_type": "markdown",
   "metadata": {},
   "source": [
    "### Activation functions\n",
    "\n",
    "So far we've only been looking at the softmax activation, but in general any function can be used as an activation function. The only requirement is that for a network to approximate a non-linear function, the activation functions must be non-linear. Here are a few more examples of common activation functions: Tanh (hyperbolic tangent), and ReLU (rectified linear unit).\n",
    "\n",
    "<img src=\"assets/activation.png\" width=700px>\n",
    "\n",
    "In practice, the ReLU function is used almost exclusively as the activation function for hidden layers."
   ]
  },
  {
   "cell_type": "markdown",
   "metadata": {},
   "source": [
    "### Your Turn to Build a Network\n",
    "\n",
    "<img src=\"assets/mlp_mnist.png\" width=600px>\n",
    "\n",
    "> **Exercise:** Create a network with 784 input units, a hidden layer with 128 units and a ReLU activation, then a hidden layer with 64 units and a ReLU activation, and finally an output layer with a softmax activation as shown above. You can use a ReLU activation with the `nn.ReLU` module or `F.relu` function."
   ]
  },
  {
   "cell_type": "code",
   "execution_count": 16,
   "metadata": {
    "scrolled": true
   },
   "outputs": [
    {
     "data": {
      "text/plain": [
       "Network(\n",
       "  (fc1): Linear(in_features=784, out_features=128, bias=True)\n",
       "  (fc2): Linear(in_features=128, out_features=64, bias=True)\n",
       "  (fc3): Linear(in_features=64, out_features=10, bias=True)\n",
       ")"
      ]
     },
     "execution_count": 16,
     "metadata": {},
     "output_type": "execute_result"
    }
   ],
   "source": [
    "## Your solution here\n",
    "\n",
    "class Network(nn.Module):\n",
    "    def __init__(self):\n",
    "        super().__init__()\n",
    "        # Defining the layers, 128, 64, 10 units each\n",
    "        self.fc1 = nn.Linear(784, 128)\n",
    "        self.fc2 = nn.Linear(128, 64)\n",
    "        # Output layer, 10 units - one for each digit\n",
    "        self.fc3 = nn.Linear(64, 10)\n",
    "        \n",
    "    def forward(self, x):\n",
    "        ''' Forward pass through the network, returns the output logits '''\n",
    "        \n",
    "        x = self.fc1(x)\n",
    "        x = F.relu(x)\n",
    "        \n",
    "        x = self.fc2(x)\n",
    "        x = F.relu(x)\n",
    "        \n",
    "        x = self.fc3(x)\n",
    "        x = F.softmax(x, dim=1)\n",
    "        \n",
    "        return x\n",
    "\n",
    "model = Network()\n",
    "model"
   ]
  },
  {
   "cell_type": "markdown",
   "metadata": {},
   "source": [
    "### Initializing weights and biases\n",
    "\n",
    "The weights and such are automatically initialized for you, but it's possible to customize how they are initialized. The weights and biases are tensors attached to the layer you defined, you can get them with `model.fc1.weight` for instance."
   ]
  },
  {
   "cell_type": "code",
   "execution_count": 17,
   "metadata": {},
   "outputs": [
    {
     "name": "stdout",
     "output_type": "stream",
     "text": [
      "Parameter containing:\n",
      "tensor([[ 0.0188, -0.0291,  0.0208,  ..., -0.0348, -0.0196, -0.0265],\n",
      "        [ 0.0246,  0.0196, -0.0065,  ...,  0.0115,  0.0066,  0.0250],\n",
      "        [ 0.0159, -0.0288,  0.0242,  ..., -0.0057, -0.0139, -0.0341],\n",
      "        ...,\n",
      "        [ 0.0284,  0.0135,  0.0334,  ..., -0.0084,  0.0039,  0.0254],\n",
      "        [ 0.0278, -0.0152, -0.0033,  ..., -0.0139, -0.0246,  0.0223],\n",
      "        [-0.0124,  0.0185,  0.0147,  ...,  0.0229, -0.0038, -0.0115]],\n",
      "       requires_grad=True)\n",
      "Parameter containing:\n",
      "tensor([ 0.0051, -0.0259,  0.0339, -0.0004, -0.0353,  0.0268,  0.0265, -0.0286,\n",
      "         0.0332,  0.0082, -0.0247,  0.0166, -0.0223,  0.0029, -0.0340, -0.0184,\n",
      "         0.0159,  0.0324, -0.0136,  0.0233,  0.0228,  0.0054,  0.0290, -0.0084,\n",
      "         0.0254, -0.0206, -0.0049, -0.0320, -0.0242, -0.0107, -0.0064,  0.0240,\n",
      "        -0.0179,  0.0162, -0.0069, -0.0144,  0.0081, -0.0043,  0.0147, -0.0312,\n",
      "         0.0308,  0.0255, -0.0291,  0.0203,  0.0335, -0.0068, -0.0202,  0.0078,\n",
      "         0.0204, -0.0111,  0.0045,  0.0345, -0.0114, -0.0050, -0.0200,  0.0051,\n",
      "         0.0184,  0.0087, -0.0324, -0.0255,  0.0199,  0.0019,  0.0101, -0.0226,\n",
      "        -0.0217,  0.0259,  0.0236, -0.0013, -0.0119,  0.0057,  0.0188,  0.0318,\n",
      "        -0.0209,  0.0272, -0.0048,  0.0225,  0.0239, -0.0009, -0.0033,  0.0168,\n",
      "        -0.0076, -0.0197,  0.0234, -0.0133,  0.0165,  0.0320,  0.0201,  0.0220,\n",
      "        -0.0134, -0.0256,  0.0244,  0.0075,  0.0147, -0.0176, -0.0300, -0.0353,\n",
      "        -0.0073, -0.0065,  0.0349, -0.0348,  0.0033, -0.0317,  0.0296,  0.0288,\n",
      "        -0.0317, -0.0065,  0.0346,  0.0350,  0.0087, -0.0083,  0.0005,  0.0343,\n",
      "         0.0182,  0.0179,  0.0112, -0.0329,  0.0047,  0.0341, -0.0333,  0.0182,\n",
      "         0.0053,  0.0032, -0.0130, -0.0012,  0.0264, -0.0331,  0.0082, -0.0271],\n",
      "       requires_grad=True)\n"
     ]
    }
   ],
   "source": [
    "print(model.fc1.weight)\n",
    "print(model.fc1.bias)"
   ]
  },
  {
   "cell_type": "markdown",
   "metadata": {},
   "source": [
    "For custom initialization, we want to modify these tensors in place. These are actually autograd *Variables*, so we need to get back the actual tensors with `model.fc1.weight.data`. Once we have the tensors, we can fill them with zeros (for biases) or random normal values."
   ]
  },
  {
   "cell_type": "code",
   "execution_count": 18,
   "metadata": {},
   "outputs": [
    {
     "data": {
      "text/plain": [
       "tensor([0., 0., 0., 0., 0., 0., 0., 0., 0., 0., 0., 0., 0., 0., 0., 0., 0., 0.,\n",
       "        0., 0., 0., 0., 0., 0., 0., 0., 0., 0., 0., 0., 0., 0., 0., 0., 0., 0.,\n",
       "        0., 0., 0., 0., 0., 0., 0., 0., 0., 0., 0., 0., 0., 0., 0., 0., 0., 0.,\n",
       "        0., 0., 0., 0., 0., 0., 0., 0., 0., 0., 0., 0., 0., 0., 0., 0., 0., 0.,\n",
       "        0., 0., 0., 0., 0., 0., 0., 0., 0., 0., 0., 0., 0., 0., 0., 0., 0., 0.,\n",
       "        0., 0., 0., 0., 0., 0., 0., 0., 0., 0., 0., 0., 0., 0., 0., 0., 0., 0.,\n",
       "        0., 0., 0., 0., 0., 0., 0., 0., 0., 0., 0., 0., 0., 0., 0., 0., 0., 0.,\n",
       "        0., 0.])"
      ]
     },
     "execution_count": 18,
     "metadata": {},
     "output_type": "execute_result"
    }
   ],
   "source": [
    "# Set biases to all zeros\n",
    "model.fc1.bias.data.fill_(0)"
   ]
  },
  {
   "cell_type": "code",
   "execution_count": 19,
   "metadata": {},
   "outputs": [
    {
     "data": {
      "text/plain": [
       "tensor([[ 0.0028,  0.0202,  0.0206,  ..., -0.0133,  0.0002,  0.0041],\n",
       "        [-0.0111, -0.0004,  0.0113,  ...,  0.0161, -0.0006,  0.0242],\n",
       "        [ 0.0031,  0.0129, -0.0049,  ..., -0.0242, -0.0054, -0.0108],\n",
       "        ...,\n",
       "        [-0.0015, -0.0027,  0.0086,  ..., -0.0032, -0.0057, -0.0033],\n",
       "        [ 0.0228, -0.0076, -0.0075,  ..., -0.0098,  0.0082, -0.0014],\n",
       "        [-0.0014,  0.0070, -0.0076,  ...,  0.0025,  0.0115,  0.0059]])"
      ]
     },
     "execution_count": 19,
     "metadata": {},
     "output_type": "execute_result"
    }
   ],
   "source": [
    "# sample from random normal with standard dev = 0.01\n",
    "model.fc1.weight.data.normal_(std=0.01)"
   ]
  },
  {
   "cell_type": "markdown",
   "metadata": {},
   "source": [
    "### Forward pass\n",
    "\n",
    "Now that we have a network, let's see what happens when we pass in an image."
   ]
  },
  {
   "cell_type": "code",
   "execution_count": 20,
   "metadata": {},
   "outputs": [
    {
     "data": {
      "image/png": "[encoded data removed]",
      "text/plain": [
       "<Figure size 432x648 with 2 Axes>"
      ]
     },
     "metadata": {
      "image/png": {
       "height": 224,
       "width": 423
      }
     },
     "output_type": "display_data"
    }
   ],
   "source": [
    "# Grab some data \n",
    "dataiter = iter(trainloader)\n",
    "images, labels = dataiter.next()\n",
    "\n",
    "# Resize images into a 1D vector, new shape is (batch size, color channels, image pixels) \n",
    "images.resize_(64, 1, 784)\n",
    "# or images.resize_(images.shape[0], 1, 784) to automatically get batch size\n",
    "\n",
    "# Forward pass through the network\n",
    "img_idx = 0\n",
    "ps = model.forward(images[img_idx,:])\n",
    "\n",
    "img = images[img_idx]\n",
    "helper.view_classify(img.view(1, 28, 28), ps)"
   ]
  },
  {
   "cell_type": "markdown",
   "metadata": {},
   "source": [
    "As you can see above, our network has basically no idea what this digit is. It's because we haven't trained it yet, all the weights are random!\n",
    "\n",
    "### Using `nn.Sequential`\n",
    "\n",
    "PyTorch provides a convenient way to build networks like this where a tensor is passed sequentially through operations, `nn.Sequential` ([documentation](https://pytorch.org/docs/master/nn.html#torch.nn.Sequential)). Using this to build the equivalent network:"
   ]
  },
  {
   "cell_type": "code",
   "execution_count": 21,
   "metadata": {},
   "outputs": [
    {
     "name": "stdout",
     "output_type": "stream",
     "text": [
      "Sequential(\n",
      "  (0): Linear(in_features=784, out_features=128, bias=True)\n",
      "  (1): ReLU()\n",
      "  (2): Linear(in_features=128, out_features=64, bias=True)\n",
      "  (3): ReLU()\n",
      "  (4): Linear(in_features=64, out_features=10, bias=True)\n",
      "  (5): Softmax()\n",
      ")\n"
     ]
    },
    {
     "data": {
      "image/png": "[encoded data removed]",
      "text/plain": [
       "<Figure size 432x648 with 2 Axes>"
      ]
     },
     "metadata": {
      "image/png": {
       "height": 224,
       "width": 423
      }
     },
     "output_type": "display_data"
    }
   ],
   "source": [
    "# Hyperparameters for our network\n",
    "input_size = 784\n",
    "hidden_sizes = [128, 64]\n",
    "output_size = 10\n",
    "\n",
    "# Build a feed-forward network\n",
    "model = nn.Sequential(nn.Linear(input_size, hidden_sizes[0]),\n",
    "                      nn.ReLU(),\n",
    "                      nn.Linear(hidden_sizes[0], hidden_sizes[1]),\n",
    "                      nn.ReLU(),\n",
    "                      nn.Linear(hidden_sizes[1], output_size),\n",
    "                      nn.Softmax(dim=1))\n",
    "print(model)\n",
    "\n",
    "# Forward pass through the network and display output\n",
    "images, labels = next(iter(trainloader))\n",
    "images.resize_(images.shape[0], 1, 784)\n",
    "ps = model.forward(images[0,:])\n",
    "helper.view_classify(images[0].view(1, 28, 28), ps)"
   ]
  },
  {
   "cell_type": "markdown",
   "metadata": {},
   "source": [
    "Here our model is the same as before: 784 input units, a hidden layer with 128 units, ReLU activation, 64 unit hidden layer, another ReLU, then the output layer with 10 units, and the softmax output.\n",
    "\n",
    "The operations are availble by passing in the appropriate index. For example, if you want to get first Linear operation and look at the weights, you'd use `model[0]`."
   ]
  },
  {
   "cell_type": "code",
   "execution_count": 22,
   "metadata": {},
   "outputs": [
    {
     "name": "stdout",
     "output_type": "stream",
     "text": [
      "Linear(in_features=784, out_features=128, bias=True)\n"
     ]
    },
    {
     "data": {
      "text/plain": [
       "Parameter containing:\n",
       "tensor([[-0.0330, -0.0037,  0.0025,  ..., -0.0173, -0.0225, -0.0157],\n",
       "        [-0.0149,  0.0165, -0.0143,  ...,  0.0080, -0.0125,  0.0292],\n",
       "        [ 0.0324, -0.0060, -0.0355,  ...,  0.0228,  0.0198,  0.0096],\n",
       "        ...,\n",
       "        [-0.0127,  0.0067,  0.0039,  ...,  0.0088, -0.0216, -0.0048],\n",
       "        [-0.0217, -0.0086,  0.0086,  ...,  0.0148,  0.0337,  0.0097],\n",
       "        [ 0.0299,  0.0013, -0.0220,  ..., -0.0301,  0.0160, -0.0124]],\n",
       "       requires_grad=True)"
      ]
     },
     "execution_count": 22,
     "metadata": {},
     "output_type": "execute_result"
    }
   ],
   "source": [
    "print(model[0])\n",
    "model[0].weight"
   ]
  },
  {
   "cell_type": "markdown",
   "metadata": {},
   "source": [
    "You can also pass in an `OrderedDict` to name the individual layers and operations, instead of using incremental integers. Note that dictionary keys must be unique, so _each operation must have a different name_."
   ]
  },
  {
   "cell_type": "code",
   "execution_count": 23,
   "metadata": {},
   "outputs": [
    {
     "data": {
      "text/plain": [
       "Sequential(\n",
       "  (fc1): Linear(in_features=784, out_features=128, bias=True)\n",
       "  (relu1): ReLU()\n",
       "  (fc2): Linear(in_features=128, out_features=64, bias=True)\n",
       "  (relu2): ReLU()\n",
       "  (output): Linear(in_features=64, out_features=10, bias=True)\n",
       "  (softmax): Softmax()\n",
       ")"
      ]
     },
     "execution_count": 23,
     "metadata": {},
     "output_type": "execute_result"
    }
   ],
   "source": [
    "from collections import OrderedDict\n",
    "model = nn.Sequential(OrderedDict([\n",
    "                      ('fc1', nn.Linear(input_size, hidden_sizes[0])),\n",
    "                      ('relu1', nn.ReLU()),\n",
    "                      ('fc2', nn.Linear(hidden_sizes[0], hidden_sizes[1])),\n",
    "                      ('relu2', nn.ReLU()),\n",
    "                      ('output', nn.Linear(hidden_sizes[1], output_size)),\n",
    "                      ('softmax', nn.Softmax(dim=1))]))\n",
    "model"
   ]
  },
  {
   "cell_type": "markdown",
   "metadata": {},
   "source": [
    "Now you can access layers either by integer or the name"
   ]
  },
  {
   "cell_type": "code",
   "execution_count": 24,
   "metadata": {},
   "outputs": [
    {
     "name": "stdout",
     "output_type": "stream",
     "text": [
      "Linear(in_features=784, out_features=128, bias=True)\n",
      "Linear(in_features=784, out_features=128, bias=True)\n"
     ]
    }
   ],
   "source": [
    "print(model[0])\n",
    "print(model.fc1)"
   ]
  },
  {
   "cell_type": "markdown",
   "metadata": {},
   "source": [
    "In the next notebook, we'll see how we can train a neural network to accuractly predict the numbers appearing in the MNIST images."
   ]
  }
 ],
 "metadata": {
  "kernelspec": {
   "display_name": "Python 3",
   "language": "python",
   "name": "python3"
  },
  "language_info": {
   "codemirror_mode": {
    "name": "ipython",
    "version": 3
   },
   "file_extension": ".py",
   "mimetype": "text/x-python",
   "name": "python",
   "nbconvert_exporter": "python",
   "pygments_lexer": "ipython3",
   "version": "3.6.5"
  }
 },
 "nbformat": 4,
 "nbformat_minor": 2
}
