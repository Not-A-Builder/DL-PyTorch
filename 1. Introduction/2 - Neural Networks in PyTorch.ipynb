{
 "cells": [
  {
   "cell_type": "markdown",
   "metadata": {},
   "source": [
    "# Neural networks with PyTorch\n",
    "\n",
    "Deep learning networks tend to be massive with dozens or hundreds of layers, that's where the term \"deep\" comes from. You can build one of these deep networks using only weight matrices as we did in the previous notebook, but in general it's very cumbersome and difficult to implement. PyTorch has a nice module `nn` that provides a nice way to efficiently build large neural networks."
   ]
  },
  {
   "cell_type": "code",
   "execution_count": 1,
   "metadata": {},
   "outputs": [],
   "source": [
    "# Import necessary packages\n",
    "\n",
    "%matplotlib inline\n",
    "%config InlineBackend.figure_format = 'retina'\n",
    "\n",
    "import numpy as np\n",
    "import torch\n",
    "\n",
    "import helper\n",
    "\n",
    "import matplotlib.pyplot as plt"
   ]
  },
  {
   "cell_type": "markdown",
   "metadata": {},
   "source": [
    "\n",
    "Now we're going to build a larger network that can solve a (formerly) difficult problem, identifying text in an image. Here we'll use the MNIST dataset which consists of greyscale handwritten digits. Each image is 28x28 pixels, you can see a sample below\n",
    "\n",
    "<img src='assets/mnist.png'>\n",
    "\n",
    "Our goal is to build a neural network that can take one of these images and predict the digit in the image.\n",
    "\n",
    "First up, we need to get our dataset. This is provided through the `torchvision` package. The code below will download the MNIST dataset, then create training and test datasets for us. Don't worry too much about the details here, you'll learn more about this later."
   ]
  },
  {
   "cell_type": "code",
   "execution_count": 2,
   "metadata": {},
   "outputs": [],
   "source": [
    "### Run this cell\n",
    "\n",
    "from torchvision import datasets, transforms\n",
    "\n",
    "# Define a transform to normalize the data\n",
    "transform = transforms.Compose([transforms.ToTensor(),\n",
    "                              transforms.Normalize((0.5,), (0.5,)),\n",
    "                              ])\n",
    "# Download and load the training data\n",
    "trainset = datasets.MNIST('~/.pytorch/MNIST_data/', download=True, train=True, transform=transform)\n",
    "trainloader = torch.utils.data.DataLoader(trainset, batch_size=64, shuffle=True)"
   ]
  },
  {
   "cell_type": "markdown",
   "metadata": {},
   "source": [
    "We have the training data loaded into `trainloader` and we make that an iterator with `iter(trainloader)`. Later, we'll use this to loop through the dataset for training, like\n",
    "\n",
    "```python\n",
    "for image, label in trainloader:\n",
    "    ## do things with images and labels\n",
    "```\n",
    "\n",
    "You'll notice I created the `trainloader` with a batch size of 64, and `shuffle=True`. The batch size is the number of images we get in one iteration from the data loader and pass through our network, often called a *batch*. And `shuffle=True` tells it to shuffle the dataset every time we start going through the data loader again. But here I'm just grabbing the first batch so we can check out the data. We can see below that `images` is just a tensor with size `(64, 1, 28, 28)`. So, 64 images per batch, 1 color channel, and 28x28 images."
   ]
  },
  {
   "cell_type": "code",
   "execution_count": 3,
   "metadata": {},
   "outputs": [
    {
     "name": "stdout",
     "output_type": "stream",
     "text": [
      "<class 'torch.Tensor'>\n",
      "torch.Size([64, 1, 28, 28])\n",
      "torch.Size([64])\n"
     ]
    }
   ],
   "source": [
    "dataiter = iter(trainloader)\n",
    "images, labels = dataiter.next()\n",
    "print(type(images))\n",
    "print(images.shape)\n",
    "print(labels.shape)"
   ]
  },
  {
   "cell_type": "markdown",
   "metadata": {},
   "source": [
    "This is what one of the images looks like. "
   ]
  },
  {
   "cell_type": "code",
   "execution_count": 4,
   "metadata": {},
   "outputs": [
    {
     "data": {
      "image/png": "[encoded data removed]",
      "text/plain": [
       "<Figure size 432x288 with 1 Axes>"
      ]
     },
     "metadata": {
      "image/png": {
       "height": 250,
       "width": 253
      }
     },
     "output_type": "display_data"
    }
   ],
   "source": [
    "plt.imshow(images[1].numpy().squeeze(), cmap='Greys_r');"
   ]
  },
  {
   "cell_type": "markdown",
   "metadata": {},
   "source": [
    "First, let's try to build a simple network for this dataset using weight matrices and matrix multiplications. Then, we'll see how to do it using PyTorch's `nn` module which provides a much more convenient and powerful method for defining network architectures.\n",
    "\n",
    "The networks you've seen so far are called *fully-connected* or *dense* networks. Each unit in one layer is connected to each unit in the next layer. In fully-connected networks, the input to each layer must be a one-dimensional vector (which can be stacked into a 2D tensor as a batch of multiple examples). However, our images are 28x28 2D tensors, so we need to convert them into 1D vectors. Thinking about sizes, we need to convert the batch of images with shape `(64, 1, 28, 28)` to a have a shape of `(64, 784)`, 784 is 28 times 28. This is typically called *flattening*, we flattened the 2D images into 1D vectors.\n",
    "\n",
    "Previously you built a network with one output unit. Here we need 10 output units, one for each digit. We want our network to predict the digit shown in an image, so what we'll do is calculate probabilities that the image is of any one digit or class. This ends up being a discrete probability distribution over the classes (digits) that tells us the most likely class for the image. That means we need 10 output units for the 10 classes (digits). We'll see how to convert the network output into a probability distribution next.\n",
    "\n",
    "> **Exercise:** Flatten the batch of images `images`. Then build a multi-layer network with 784 input units, 256 hidden units, and 10 output units using random tensors for the weights and biases. For now, use a sigmoid activation for the hidden layer. Leave the output layer without an activation, we'll add one that gives us a probability distribution next."
   ]
  },
  {
   "cell_type": "code",
   "execution_count": 5,
   "metadata": {},
   "outputs": [
    {
     "name": "stdout",
     "output_type": "stream",
     "text": [
      "torch.Size([64, 10]) \n",
      "\n",
      "tensor([[  8.2824,   3.6926,  -5.2438,   8.6947,   4.8723,   3.3648, -14.9934,\n",
      "          -7.1466,  -6.3987, -28.5982],\n",
      "        [  5.2478,  -8.5851,  -4.9043,  13.3412,   6.4199,   7.9343, -17.2255,\n",
      "          -3.9200,   6.0754, -18.5048],\n",
      "        [  7.5425,  -2.6360,  -1.5886,  18.2785,  11.7725,   4.9860, -13.1850,\n",
      "         -20.6765,  -4.3578, -19.8594],\n",
      "        [  8.4501,  -5.1721,  -3.1618,  12.4117,   2.8730,   6.4304, -15.1260,\n",
      "         -17.5175,  -3.8258, -21.1746],\n",
      "        [  6.4192,  -0.4142,  -1.2413,   4.4475,   0.7819,  16.1389, -11.0985,\n",
      "         -12.7707,  -5.4085, -14.0306],\n",
      "        [  4.9146,   4.7366,   0.6068,   9.7600,  12.2179,  11.5387, -13.3811,\n",
      "          -8.2268,   2.8253, -19.7888],\n",
      "        [  3.4187, -10.2946,   0.6007,  13.0473,   2.6166,   5.3220,  -8.4046,\n",
      "          -2.9657,   7.0398, -12.5571],\n",
      "        [ -3.7528, -10.9977,  -0.9276,  15.7352,   7.6826,   2.2856,  -7.8351,\n",
      "         -10.9761,  -1.1681, -14.1228],\n",
      "        [  3.0072, -11.8809,  -5.4700,  12.9845,   2.3503,   3.4998, -26.0412,\n",
      "         -10.2482,  -3.4026, -18.1852],\n",
      "        [  8.9470,  -6.0658,   0.5038,  10.2883,   7.4845,   4.0281, -20.3991,\n",
      "         -22.0915,  -3.6535, -23.1243],\n",
      "        [  2.4881, -16.2205,  -1.3808,   8.3489,   6.0435,   6.2348, -11.7022,\n",
      "         -14.7673,  -2.7078, -21.2651],\n",
      "        [  3.1524,  -5.3426, -15.0939,   6.6413,   7.5937,   6.3279, -21.7351,\n",
      "         -15.6701,  -5.9359, -26.3425],\n",
      "        [  9.3584,   0.9701, -11.0965,   9.9136,   9.1322,   2.0568, -27.2274,\n",
      "         -23.2911,  -4.5064, -27.9805],\n",
      "        [  0.9357,  -8.9525,  -5.4260,  18.0004,   1.0800,   3.1005, -24.0533,\n",
      "         -18.8658,  -0.3823, -16.7944],\n",
      "        [  4.8358,  -5.3864,  10.8186,   0.8828,  -3.9552,   2.2642,  -4.1949,\n",
      "          -9.9999,   0.1525, -18.4827],\n",
      "        [  4.5990, -11.3078,   0.3124,  14.3251,   2.4039,  10.1932, -12.4339,\n",
      "         -10.1797,   2.8850, -15.8801],\n",
      "        [  2.1576,   3.0893,   8.5740,  14.6904,   4.3157,   1.1779,  -2.8807,\n",
      "         -11.1874,   6.1902, -21.1961],\n",
      "        [ -2.9794,   0.7911, -10.0614,  15.3601,   6.2828,   3.9622,  -6.7070,\n",
      "         -11.5517,  -1.4970, -19.4189],\n",
      "        [  4.8974, -18.4389,  -2.5750,  17.9737,   5.7536,   6.3017, -16.6382,\n",
      "         -12.2981,   0.3863, -16.7807],\n",
      "        [  9.4309,  -7.1535,  -8.3098,  17.2331,  12.8874,   1.6303, -14.8630,\n",
      "           0.5495,  -0.4225, -24.2904],\n",
      "        [  3.7650,  -3.2015,   2.5465,  -4.0355,   8.8831,   7.9255, -16.0027,\n",
      "           0.6087,   1.3626, -25.7734],\n",
      "        [ 15.6650,  -9.5166,  -1.1753,  16.6185,   1.1839,   4.3108, -20.3353,\n",
      "          -3.7062,  -5.6639, -22.1083],\n",
      "        [ 10.9039,  -7.1073,  -6.6689,   0.3842,   6.8362,   7.9533, -21.2825,\n",
      "          -7.6407, -10.0105, -18.8998],\n",
      "        [ -2.7301,   5.2602, -12.8692,   3.3488,  15.5456,   5.1995, -24.7914,\n",
      "         -10.4266,  -6.1181, -14.2205],\n",
      "        [  0.8506, -11.3485,   3.2291,   8.4339,   3.7371,  11.2058,  -6.7101,\n",
      "         -12.1943,   6.6058, -21.3409],\n",
      "        [  8.4943,  -4.2795,  -8.7650,  13.0556,  10.6066,   6.9779, -16.6345,\n",
      "         -13.1053,  -4.2345, -19.5221],\n",
      "        [  4.7051,   0.4402,  -4.1760,   4.9260,   0.7175,   5.7209, -11.9090,\n",
      "         -13.0453,   0.3205, -20.5696],\n",
      "        [  2.4959,  -7.8196,  -4.8970,  19.6695,   4.6499,   5.2921,  -7.5346,\n",
      "          -0.7196,   0.8196, -21.5110],\n",
      "        [  0.2682,  -8.4721,   1.4233,   7.7613,   9.1845,  11.2877, -16.6715,\n",
      "          -1.8289,   0.8317, -24.8626],\n",
      "        [  0.4645,   2.5991,  -8.8586,  12.6026,  -0.5891,   0.0816, -10.2317,\n",
      "          -9.5678,  -7.2919, -17.2506],\n",
      "        [  6.4729,  -8.9519, -11.4639,  17.4018,  10.9637,   2.1742, -20.4371,\n",
      "          -9.0534,  -1.5857, -21.2346],\n",
      "        [ 11.8522, -11.4624,   4.1213,   9.1442,  -0.4096,  -1.8145, -12.7984,\n",
      "          -8.6613, -15.5027, -18.4278],\n",
      "        [ 15.5781,  -0.6035,  -9.4766,  13.3534,   1.6541,   2.9635, -14.6063,\n",
      "         -10.0616,   3.3802, -15.2677],\n",
      "        [  4.0772, -10.6419,   3.2744,  10.1240,   8.3355,  -4.1609, -16.1883,\n",
      "          -6.7185,  -0.8351, -24.0668],\n",
      "        [ 13.0327,  -8.2604,  -3.3086,   7.3829,   3.0581,   9.9325, -14.7137,\n",
      "          -3.7100, -10.7648, -24.5276],\n",
      "        [ -7.7005, -18.1056,   0.8732,  13.2086,  10.4623,   4.7687, -20.6712,\n",
      "          -4.8787,  -7.2283, -11.0792],\n",
      "        [  1.0889,  -3.5682,  -3.4549,   3.8465,   7.6502,   1.0489,  -7.2970,\n",
      "          -9.6537,   5.9419, -18.6471],\n",
      "        [  2.9175, -10.0837,  -4.3299,  14.5289,  14.5048,   8.1157, -20.7663,\n",
      "         -10.9627,  -1.8705, -21.6428],\n",
      "        [  8.7735,  -6.5709,   1.4761,  12.3003,   4.0705,   0.4363,  -6.1006,\n",
      "         -13.6201,  -0.0467, -21.5202],\n",
      "        [ -7.1181,  -7.9243,  10.0250,  15.2543,  -0.3504,   4.0883, -14.5376,\n",
      "           7.5042,   0.7372, -30.1492],\n",
      "        [ 10.7702,  -7.6723,  -3.8924,   5.4785,   0.6565,   7.0448, -17.5784,\n",
      "         -16.6867,  -3.7179, -20.6557],\n",
      "        [  8.4968, -18.2714,   1.6254,   5.5628,  -0.3044,   2.4514, -15.5614,\n",
      "         -10.3857,  -5.8615, -21.2126],\n",
      "        [  2.7919,  -2.7815,  -0.7930,  12.4699,   0.1940,   8.7097, -19.2221,\n",
      "          -5.7479,   4.6920, -21.6060],\n",
      "        [  9.0648, -12.8782,  -3.2967,   5.9225,   4.7774,   6.3681, -17.4719,\n",
      "          -3.6755,   0.7528, -17.8522],\n",
      "        [  8.0078,  -1.8977,  -7.3019,  15.1878,   3.2454,   5.1738, -16.3416,\n",
      "          -8.5689,   2.9117, -22.2457],\n",
      "        [  1.0888, -12.3047,  -1.0708,  13.4711,   8.2715,   1.7842, -12.9257,\n",
      "          -4.7832,   5.9496, -15.6165],\n",
      "        [  8.2695,  -3.1783,  -5.2082,  11.2557,  10.2208, -10.4854,  -2.2855,\n",
      "          -2.5337,  -6.1565, -26.6052],\n",
      "        [ 11.5074,  -5.7425,  -1.5403,  14.5735,   3.8787,   9.7783,  -9.5005,\n",
      "          -8.1531,  -2.9502, -16.2222],\n",
      "        [  0.6455, -12.6495,   3.1784,   8.7727,  10.1926,  -5.3176,  -4.8461,\n",
      "           1.1470,  -2.3489, -18.8410],\n",
      "        [ -3.0434,   4.0957,  -3.2858,   6.3845,   3.1545,   4.0115, -23.2035,\n",
      "          -5.0387,  -4.7533, -16.7868],\n",
      "        [  6.3134,  -1.4912,  -3.9915,  16.4067,  -6.3631,   2.1925, -11.0996,\n",
      "          -5.6073,   0.9077, -22.3872],\n",
      "        [  3.3671,  -1.3055,  -2.4878,  19.8855,  14.3706,   2.2906, -13.6521,\n",
      "          -7.3667,   6.9651, -25.8217],\n",
      "        [  9.6134, -16.7322,   0.3753,  14.0430,   1.5792,   5.3501, -10.1362,\n",
      "         -10.9901,  -9.5120, -14.9555],\n",
      "        [  8.8962, -12.0793,   9.8055,  18.7879,  14.2210,   0.6893,  -7.9005,\n",
      "          -6.0000,   6.4626, -25.6070],\n",
      "        [ -5.5974, -13.2274,   3.7294,  18.4881,   4.2985,   4.3803,  -9.8320,\n",
      "         -15.7568,  -2.8903, -16.1902],\n",
      "        [  4.0619,  -3.0817,  -7.8037,  17.4265,  12.4301,  -4.5151, -17.9306,\n",
      "         -14.5195,  -1.8494, -21.3970],\n",
      "        [  6.9228,  -2.7371,  -8.5808,   7.7638,  10.7022,   8.1251, -21.3282,\n",
      "         -16.6150,  -5.6899, -20.2466],\n",
      "        [ -0.6050, -17.0340,   5.7336,  13.7564,   7.6522,   1.1907, -13.5652,\n",
      "          -8.2018,   8.6076, -21.8397],\n",
      "        [  8.1162,  -9.0632,   1.0200,  18.1759,   4.3238,   6.6926, -18.0088,\n",
      "         -16.6187,  -0.6095, -22.2360],\n",
      "        [ -8.7074,  -6.3231,   2.5135,  16.3159,  10.6626,  -2.2342,  -6.1941,\n",
      "           1.3911,  10.3205, -28.2385],\n",
      "        [ -3.1585,  -0.3751,  -5.6616,  16.9692,   4.6650,   4.7327,  -7.4815,\n",
      "          -9.6044,   0.8366,  -8.9617],\n",
      "        [  7.6475,  -3.8047,  -2.2204,  10.0823,  -4.2650,   1.9524, -10.3701,\n",
      "         -13.9234,   0.7184, -20.6728],\n",
      "        [  2.2289,  -9.7011,   0.2372,   4.9346,   5.3512,   5.5663, -17.3627,\n",
      "         -14.5770,  -5.6361, -17.2599],\n",
      "        [  7.6523,   3.2504,  -5.5210,   9.2320,   4.8694,   3.4278, -14.9980,\n",
      "          -6.6327,  -2.4617, -24.1561]])\n"
     ]
    }
   ],
   "source": [
    "## Solution\n",
    "def activation(x):\n",
    "    return 1/(1+torch.exp(-x))\n",
    "\n",
    "# Flatten the input images\n",
    "inputs = images.view(images.shape[0], -1)\n",
    "# Reshaping the tensors using .view()\n",
    "# Batch size already declared previously is images, and images.shape[0] is the first element in that\n",
    "# images.shape[0] hence gives the number of batches in the images tensor\n",
    "# We want to keep the number of batches the same, but just want to change the dimension by flattening the image\n",
    "# To do this we used -1. We could use 784, but a shortcut way to do is use -1\n",
    "# Takes 64 as batch size and automatically chooses the appropriate size to get the total number of elements\n",
    "# It will work out on it's own that it needs to make the 2nd dimension 784, so that the number of elements after reshaping\n",
    "# becomes equal to the number of elements before reshaping (since, 28x28 = 784)\n",
    "# This is just a quick way to flatten a tensor without having to know what the 2nd dimension needs to be.\n",
    " \n",
    "# Create parameters\n",
    "w1 = torch.randn(784, 256)       # Input of 784 elements and hidden layer of 256 elements\n",
    "b1 = torch.randn(256)\n",
    "\n",
    "w2 = torch.randn(256, 10)       # Input of 256 elements and hidden layer of 10 elements\n",
    "b2 = torch.randn(10)\n",
    "\n",
    "h = activation(torch.mm(inputs, w1) + b1)\n",
    "\n",
    "out = torch.mm(h, w2) + b2\n",
    "\n",
    "print(out.shape, '\\n')\n",
    "print(out)"
   ]
  },
  {
   "cell_type": "markdown",
   "metadata": {},
   "source": [
    "Now we have 10 outputs for our network. We want to pass in an image to our network and get out a probability distribution over the classes that tells us the likely class(es) the image belongs to. Something that looks like this:\n",
    "<img src='assets/image_distribution.png' width=500px>\n",
    "\n",
    "Here we see that the probability for each class is roughly the same. This is representing an untrained network, it hasn't seen any data yet so it just returns a uniform distribution with equal probabilities for each class.\n",
    "\n",
    "To calculate this probability distribution, we often use the [**softmax** function](https://en.wikipedia.org/wiki/Softmax_function). Mathematically this looks like\n",
    "\n",
    "$$\n",
    "\\Large \\sigma(x_i) = \\cfrac{e^{x_i}}{\\sum_k^K{e^{x_k}}}\n",
    "$$\n",
    "\n",
    "What this does is squish each input $x_i$ between 0 and 1 and normalizes the values to give you a proper probability distribution where the probabilites sum up to one.\n",
    "\n",
    "> **Exercise:** Implement a function `softmax` that performs the softmax calculation and returns probability distributions for each example in the batch. Note that you'll need to pay attention to the shapes when doing this. If you have a tensor `a` with shape `(64, 10)` and a tensor `b` with shape `(64,)`, doing `a/b` will give you an error because PyTorch will try to do the division across the columns (called broadcasting) but you'll get a size mismatch. The way to think about this is for each of the 64 examples, you only want to divide by one value, the sum in the denominator. So you need `b` to have a shape of `(64, 1)`. This way PyTorch will divide the 10 values in each row of `a` by the one value in each row of `b`. Pay attention to how you take the sum as well. You'll need to define the `dim` keyword in `torch.sum`. Setting `dim=0` takes the sum across the rows while `dim=1` takes the sum across the columns."
   ]
  },
  {
   "cell_type": "code",
   "execution_count": 6,
   "metadata": {},
   "outputs": [
    {
     "name": "stdout",
     "output_type": "stream",
     "text": [
      "torch.Size([64, 10])\n",
      "tensor([1.0000, 1.0000, 1.0000, 1.0000, 1.0000, 1.0000, 1.0000, 1.0000, 1.0000,\n",
      "        1.0000, 1.0000, 1.0000, 1.0000, 1.0000, 1.0000, 1.0000, 1.0000, 1.0000,\n",
      "        1.0000, 1.0000, 1.0000, 1.0000, 1.0000, 1.0000, 1.0000, 1.0000, 1.0000,\n",
      "        1.0000, 1.0000, 1.0000, 1.0000, 1.0000, 1.0000, 1.0000, 1.0000, 1.0000,\n",
      "        1.0000, 1.0000, 1.0000, 1.0000, 1.0000, 1.0000, 1.0000, 1.0000, 1.0000,\n",
      "        1.0000, 1.0000, 1.0000, 1.0000, 1.0000, 1.0000, 1.0000, 1.0000, 1.0000,\n",
      "        1.0000, 1.0000, 1.0000, 1.0000, 1.0000, 1.0000, 1.0000, 1.0000, 1.0000,\n",
      "        1.0000])\n"
     ]
    }
   ],
   "source": [
    "## Solution\n",
    "def softmax(x):\n",
    "    return torch.exp(x)/torch.sum(torch.exp(x), dim=1).view(-1, 1)      \n",
    "# .view(-1,1) will reshape it so that in case of denominator the result does not become a 64x64 but 64x10\n",
    "# this will make sure that for each value in the numerator, the denominator will use only one equivalent value for that numerator value\n",
    "\n",
    "probabilities = softmax(out)\n",
    "\n",
    "# Does it have the right shape? Should be (64, 10)\n",
    "print(probabilities.shape)\n",
    "# Does it sum to 1?\n",
    "print(probabilities.sum(dim=1))"
   ]
  },
  {
   "cell_type": "markdown",
   "metadata": {},
   "source": [
    "## Building networks with PyTorch\n",
    "\n",
    "PyTorch provides a module `nn` that makes building networks much simpler. Here I'll show you how to build the same one as above with 784 inputs, 256 hidden units, 10 output units and a softmax output."
   ]
  },
  {
   "cell_type": "code",
   "execution_count": 7,
   "metadata": {},
   "outputs": [],
   "source": [
    "from torch import nn"
   ]
  },
  {
   "cell_type": "code",
   "execution_count": 8,
   "metadata": {},
   "outputs": [],
   "source": [
    "class Network(nn.Module):\n",
    "    def __init__(self):\n",
    "        super().__init__()\n",
    "        \n",
    "        # Inputs to hidden layer linear transformation\n",
    "        self.hidden = nn.Linear(784, 256)\n",
    "        # Output layer, 10 units - one for each digit\n",
    "        self.output = nn.Linear(256, 10)\n",
    "        \n",
    "        # Define sigmoid activation and softmax output \n",
    "        self.sigmoid = nn.Sigmoid()\n",
    "        self.softmax = nn.Softmax(dim=1)\n",
    "        \n",
    "    def forward(self, x):\n",
    "        # Pass the input tensor through each of our operations\n",
    "        x = self.hidden(x)\n",
    "        x = self.sigmoid(x)\n",
    "        x = self.output(x)\n",
    "        x = self.softmax(x)\n",
    "        \n",
    "        return x"
   ]
  },
  {
   "cell_type": "markdown",
   "metadata": {},
   "source": [
    "Let's go through this bit by bit.\n",
    "\n",
    "```python\n",
    "class Network(nn.Module):\n",
    "```\n",
    "\n",
    "Here we're inheriting from `nn.Module`. Combined with `super().__init__()` this creates a class that tracks the architecture and provides a lot of useful methods and attributes. It is mandatory to inherit from `nn.Module` when you're creating a class for your network. The name of the class itself can be anything.\n",
    "\n",
    "```python\n",
    "self.hidden = nn.Linear(784, 256)\n",
    "```\n",
    "\n",
    "This line creates a module for a linear transformation, $x\\mathbf{W} + b$, with 784 inputs and 256 outputs and assigns it to `self.hidden`. The module automatically creates the weight and bias tensors which we'll use in the `forward` method. You can access the weight and bias tensors once the network once it's create at `net.hidden.weight` and `net.hidden.bias`.\n",
    "\n",
    "```python\n",
    "self.output = nn.Linear(256, 10)\n",
    "```\n",
    "\n",
    "Similarly, this creates another linear transformation with 256 inputs and 10 outputs.\n",
    "\n",
    "```python\n",
    "self.sigmoid = nn.Sigmoid()\n",
    "self.softmax = nn.Softmax(dim=1)\n",
    "```\n",
    "\n",
    "Here I defined operations for the sigmoid activation and softmax output. Setting `dim=1` in `nn.Softmax(dim=1)` calculates softmax across the columns.\n",
    "\n",
    "```python\n",
    "def forward(self, x):\n",
    "```\n",
    "\n",
    "PyTorch networks created with `nn.Module` must have a `forward` method defined. It takes in a tensor `x` and passes it through the operations you defined in the `__init__` method.\n",
    "\n",
    "```python\n",
    "x = self.hidden(x)\n",
    "x = self.sigmoid(x)\n",
    "x = self.output(x)\n",
    "x = self.softmax(x)\n",
    "```\n",
    "\n",
    "Here the input tensor `x` is passed through each operation a reassigned to `x`. We can see that the input tensor goes through the hidden layer, then a sigmoid function, then the output layer, and finally the softmax function. It doesn't matter what you name the variables here, as long as the inputs and outputs of the operations match the network architecture you want to build. The order in which you define things in the `__init__` method doesn't matter, but you'll need to sequence the operations correctly in the `forward` method.\n",
    "\n",
    "Now we can create a `Network` object."
   ]
  },
  {
   "cell_type": "code",
   "execution_count": 9,
   "metadata": {},
   "outputs": [
    {
     "data": {
      "text/plain": [
       "Network(\n",
       "  (hidden): Linear(in_features=784, out_features=256, bias=True)\n",
       "  (output): Linear(in_features=256, out_features=10, bias=True)\n",
       "  (sigmoid): Sigmoid()\n",
       "  (softmax): Softmax()\n",
       ")"
      ]
     },
     "execution_count": 9,
     "metadata": {},
     "output_type": "execute_result"
    }
   ],
   "source": [
    "# Create the network and look at it's text representation\n",
    "model = Network()\n",
    "model"
   ]
  },
  {
   "cell_type": "markdown",
   "metadata": {},
   "source": [
    "You can define the network somewhat more concisely and clearly using the `torch.nn.functional` module. This is the most common way you'll see networks defined as many operations are simple element-wise functions. We normally import this module as `F`, `import torch.nn.functional as F`."
   ]
  },
  {
   "cell_type": "code",
   "execution_count": 10,
   "metadata": {},
   "outputs": [],
   "source": [
    "import torch.nn.functional as F\n",
    "\n",
    "class Network(nn.Module):\n",
    "    def __init__(self):\n",
    "        super().__init__()\n",
    "        # Inputs to hidden layer linear transformation\n",
    "        self.hidden = nn.Linear(784, 256)\n",
    "        # Output layer, 10 units - one for each digit\n",
    "        self.output = nn.Linear(256, 10)\n",
    "        \n",
    "    def forward(self, x):\n",
    "        # Hidden layer with sigmoid activation\n",
    "        x = F.sigmoid(self.hidden(x))\n",
    "        # Output layer with softmax activation\n",
    "        x = F.softmax(self.output(x), dim=1)\n",
    "        \n",
    "        return x"
   ]
  },
  {
   "cell_type": "markdown",
   "metadata": {},
   "source": [
    "### Activation functions\n",
    "\n",
    "So far we've only been looking at the softmax activation, but in general any function can be used as an activation function. The only requirement is that for a network to approximate a non-linear function, the activation functions must be non-linear. Here are a few more examples of common activation functions: Tanh (hyperbolic tangent), and ReLU (rectified linear unit).\n",
    "\n",
    "<img src=\"assets/activation.png\" width=700px>\n",
    "\n",
    "In practice, the ReLU function is used almost exclusively as the activation function for hidden layers."
   ]
  },
  {
   "cell_type": "markdown",
   "metadata": {},
   "source": [
    "### Your Turn to Build a Network\n",
    "\n",
    "<img src=\"assets/mlp_mnist.png\" width=600px>\n",
    "\n",
    "> **Exercise:** Create a network with 784 input units, a hidden layer with 128 units and a ReLU activation, then a hidden layer with 64 units and a ReLU activation, and finally an output layer with a softmax activation as shown above. You can use a ReLU activation with the `nn.ReLU` module or `F.relu` function."
   ]
  },
  {
   "cell_type": "code",
   "execution_count": 11,
   "metadata": {
    "scrolled": true
   },
   "outputs": [
    {
     "data": {
      "text/plain": [
       "Network(\n",
       "  (fc1): Linear(in_features=784, out_features=128, bias=True)\n",
       "  (fc2): Linear(in_features=128, out_features=64, bias=True)\n",
       "  (fc3): Linear(in_features=64, out_features=10, bias=True)\n",
       ")"
      ]
     },
     "execution_count": 11,
     "metadata": {},
     "output_type": "execute_result"
    }
   ],
   "source": [
    "## Solution\n",
    "\n",
    "class Network(nn.Module):\n",
    "    def __init__(self):\n",
    "        super().__init__()\n",
    "        # Defining the layers, 128, 64, 10 units each\n",
    "        self.fc1 = nn.Linear(784, 128)\n",
    "        self.fc2 = nn.Linear(128, 64)\n",
    "        # Output layer, 10 units - one for each digit\n",
    "        self.fc3 = nn.Linear(64, 10)\n",
    "        \n",
    "    def forward(self, x):\n",
    "        ''' Forward pass through the network, returns the output logits '''\n",
    "        \n",
    "        x = self.fc1(x)\n",
    "        x = F.relu(x)\n",
    "        x = self.fc2(x)\n",
    "        x = F.relu(x)\n",
    "        x = self.fc3(x)\n",
    "        x = F.softmax(x, dim=1)\n",
    "        \n",
    "        return x\n",
    "\n",
    "model = Network()\n",
    "model"
   ]
  },
  {
   "cell_type": "markdown",
   "metadata": {},
   "source": [
    "### Initializing weights and biases\n",
    "\n",
    "The weights and such are automatically initialized for you, but it's possible to customize how they are initialized. The weights and biases are tensors attached to the layer you defined, you can get them with `model.fc1.weight` for instance."
   ]
  },
  {
   "cell_type": "code",
   "execution_count": 12,
   "metadata": {},
   "outputs": [
    {
     "name": "stdout",
     "output_type": "stream",
     "text": [
      "Parameter containing:\n",
      "tensor([[ 0.0173, -0.0160,  0.0356,  ..., -0.0186, -0.0076, -0.0175],\n",
      "        [ 0.0332, -0.0282, -0.0303,  ...,  0.0285, -0.0329,  0.0084],\n",
      "        [-0.0262, -0.0158, -0.0044,  ..., -0.0020, -0.0269, -0.0159],\n",
      "        ...,\n",
      "        [ 0.0282, -0.0239, -0.0288,  ...,  0.0124, -0.0074, -0.0226],\n",
      "        [-0.0179, -0.0296,  0.0231,  ...,  0.0188,  0.0034,  0.0139],\n",
      "        [ 0.0066, -0.0186,  0.0045,  ..., -0.0073,  0.0121, -0.0012]],\n",
      "       requires_grad=True)\n",
      "Parameter containing:\n",
      "tensor([-0.0095,  0.0241,  0.0085,  0.0098,  0.0343,  0.0085,  0.0307,  0.0310,\n",
      "        -0.0134,  0.0285, -0.0015, -0.0185, -0.0136, -0.0348, -0.0145,  0.0054,\n",
      "        -0.0319, -0.0136,  0.0284, -0.0005, -0.0319,  0.0021, -0.0199, -0.0134,\n",
      "         0.0026,  0.0320, -0.0140,  0.0055,  0.0101,  0.0043, -0.0210,  0.0150,\n",
      "        -0.0137, -0.0038, -0.0265, -0.0267,  0.0231,  0.0256, -0.0162,  0.0348,\n",
      "        -0.0028, -0.0143, -0.0010, -0.0193,  0.0347,  0.0293,  0.0104, -0.0168,\n",
      "        -0.0101,  0.0240, -0.0061, -0.0056,  0.0141, -0.0156,  0.0242, -0.0300,\n",
      "        -0.0163,  0.0269, -0.0074, -0.0004,  0.0186,  0.0246, -0.0057,  0.0258,\n",
      "         0.0271,  0.0128, -0.0263, -0.0114,  0.0010,  0.0345, -0.0326, -0.0173,\n",
      "         0.0315, -0.0127,  0.0338, -0.0169, -0.0070,  0.0102, -0.0264, -0.0163,\n",
      "        -0.0044,  0.0031,  0.0214, -0.0128, -0.0034, -0.0063, -0.0288,  0.0101,\n",
      "        -0.0237,  0.0289, -0.0109,  0.0147,  0.0275,  0.0057,  0.0080,  0.0126,\n",
      "         0.0309,  0.0353, -0.0206, -0.0223, -0.0025,  0.0150, -0.0333,  0.0279,\n",
      "        -0.0198, -0.0284,  0.0259,  0.0324, -0.0047, -0.0299, -0.0115, -0.0134,\n",
      "         0.0184, -0.0272,  0.0105,  0.0137, -0.0274,  0.0082,  0.0248, -0.0001,\n",
      "        -0.0145, -0.0093, -0.0220,  0.0294, -0.0285, -0.0295,  0.0114, -0.0220],\n",
      "       requires_grad=True)\n"
     ]
    }
   ],
   "source": [
    "print(model.fc1.weight)\n",
    "print(model.fc1.bias)"
   ]
  },
  {
   "cell_type": "markdown",
   "metadata": {},
   "source": [
    "For custom initialization, we want to modify these tensors in place. These are actually autograd *Variables*, so we need to get back the actual tensors with `model.fc1.weight.data`. Once we have the tensors, we can fill them with zeros (for biases) or random normal values."
   ]
  },
  {
   "cell_type": "code",
   "execution_count": 13,
   "metadata": {},
   "outputs": [
    {
     "data": {
      "text/plain": [
       "tensor([0., 0., 0., 0., 0., 0., 0., 0., 0., 0., 0., 0., 0., 0., 0., 0., 0., 0.,\n",
       "        0., 0., 0., 0., 0., 0., 0., 0., 0., 0., 0., 0., 0., 0., 0., 0., 0., 0.,\n",
       "        0., 0., 0., 0., 0., 0., 0., 0., 0., 0., 0., 0., 0., 0., 0., 0., 0., 0.,\n",
       "        0., 0., 0., 0., 0., 0., 0., 0., 0., 0., 0., 0., 0., 0., 0., 0., 0., 0.,\n",
       "        0., 0., 0., 0., 0., 0., 0., 0., 0., 0., 0., 0., 0., 0., 0., 0., 0., 0.,\n",
       "        0., 0., 0., 0., 0., 0., 0., 0., 0., 0., 0., 0., 0., 0., 0., 0., 0., 0.,\n",
       "        0., 0., 0., 0., 0., 0., 0., 0., 0., 0., 0., 0., 0., 0., 0., 0., 0., 0.,\n",
       "        0., 0.])"
      ]
     },
     "execution_count": 13,
     "metadata": {},
     "output_type": "execute_result"
    }
   ],
   "source": [
    "# Set biases to all zeros\n",
    "model.fc1.bias.data.fill_(0)"
   ]
  },
  {
   "cell_type": "code",
   "execution_count": 14,
   "metadata": {},
   "outputs": [
    {
     "data": {
      "text/plain": [
       "tensor([[ 0.0064,  0.0002,  0.0078,  ...,  0.0101, -0.0059,  0.0100],\n",
       "        [-0.0217,  0.0140,  0.0040,  ..., -0.0069,  0.0071,  0.0028],\n",
       "        [ 0.0035, -0.0068, -0.0073,  ..., -0.0156, -0.0010,  0.0022],\n",
       "        ...,\n",
       "        [-0.0023, -0.0100, -0.0110,  ...,  0.0040,  0.0046,  0.0065],\n",
       "        [-0.0108, -0.0114,  0.0034,  ..., -0.0079,  0.0042, -0.0094],\n",
       "        [-0.0068, -0.0059,  0.0013,  ..., -0.0017,  0.0008, -0.0041]])"
      ]
     },
     "execution_count": 14,
     "metadata": {},
     "output_type": "execute_result"
    }
   ],
   "source": [
    "# sample from random normal with standard dev = 0.01\n",
    "model.fc1.weight.data.normal_(std=0.01)"
   ]
  },
  {
   "cell_type": "markdown",
   "metadata": {},
   "source": [
    "### Forward pass\n",
    "\n",
    "Now that we have a network, let's see what happens when we pass in an image."
   ]
  },
  {
   "cell_type": "code",
   "execution_count": 15,
   "metadata": {},
   "outputs": [
    {
     "data": {
      "image/png": "[encoded data removed]",
      "text/plain": [
       "<Figure size 432x648 with 2 Axes>"
      ]
     },
     "metadata": {
      "image/png": {
       "height": 224,
       "width": 423
      }
     },
     "output_type": "display_data"
    }
   ],
   "source": [
    "# Grab some data \n",
    "dataiter = iter(trainloader)\n",
    "images, labels = dataiter.next()\n",
    "\n",
    "# Resize images into a 1D vector, new shape is (batch size, color channels, image pixels) \n",
    "images.resize_(64, 1, 784)\n",
    "# or images.resize_(images.shape[0], 1, 784) to automatically get batch size\n",
    "\n",
    "# Forward pass through the network\n",
    "img_idx = 0\n",
    "ps = model.forward(images[img_idx,:])\n",
    "\n",
    "img = images[img_idx]\n",
    "helper.view_classify(img.view(1, 28, 28), ps)"
   ]
  },
  {
   "cell_type": "markdown",
   "metadata": {},
   "source": [
    "As you can see above, our network has basically no idea what this digit is. It's because we haven't trained it yet, all the weights are random!\n",
    "\n",
    "### Using `nn.Sequential`\n",
    "\n",
    "PyTorch provides a convenient way to build networks like this where a tensor is passed sequentially through operations, `nn.Sequential` ([documentation](https://pytorch.org/docs/master/nn.html#torch.nn.Sequential)). Using this to build the equivalent network:"
   ]
  },
  {
   "cell_type": "code",
   "execution_count": 16,
   "metadata": {},
   "outputs": [
    {
     "name": "stdout",
     "output_type": "stream",
     "text": [
      "Sequential(\n",
      "  (0): Linear(in_features=784, out_features=128, bias=True)\n",
      "  (1): ReLU()\n",
      "  (2): Linear(in_features=128, out_features=64, bias=True)\n",
      "  (3): ReLU()\n",
      "  (4): Linear(in_features=64, out_features=10, bias=True)\n",
      "  (5): Softmax()\n",
      ")\n"
     ]
    },
    {
     "data": {
      "image/png": "[encoded data removed]",
      "text/plain": [
       "<Figure size 432x648 with 2 Axes>"
      ]
     },
     "metadata": {
      "image/png": {
       "height": 224,
       "width": 423
      }
     },
     "output_type": "display_data"
    }
   ],
   "source": [
    "# Hyperparameters for our network\n",
    "input_size = 784\n",
    "hidden_sizes = [128, 64]\n",
    "output_size = 10\n",
    "\n",
    "# Build a feed-forward network\n",
    "model = nn.Sequential(nn.Linear(input_size, hidden_sizes[0]),\n",
    "                      nn.ReLU(),\n",
    "                      nn.Linear(hidden_sizes[0], hidden_sizes[1]),\n",
    "                      nn.ReLU(),\n",
    "                      nn.Linear(hidden_sizes[1], output_size),\n",
    "                      nn.Softmax(dim=1))\n",
    "print(model)\n",
    "\n",
    "# Forward pass through the network and display output\n",
    "images, labels = next(iter(trainloader))\n",
    "images.resize_(images.shape[0], 1, 784)\n",
    "ps = model.forward(images[0,:])\n",
    "helper.view_classify(images[0].view(1, 28, 28), ps)"
   ]
  },
  {
   "cell_type": "markdown",
   "metadata": {},
   "source": [
    "The operations are availble by passing in the appropriate index. For example, if you want to get first Linear operation and look at the weights, you'd use `model[0]`."
   ]
  },
  {
   "cell_type": "code",
   "execution_count": 17,
   "metadata": {},
   "outputs": [
    {
     "name": "stdout",
     "output_type": "stream",
     "text": [
      "Linear(in_features=784, out_features=128, bias=True)\n"
     ]
    },
    {
     "data": {
      "text/plain": [
       "Parameter containing:\n",
       "tensor([[-0.0316, -0.0152,  0.0219,  ..., -0.0308,  0.0340,  0.0006],\n",
       "        [ 0.0117, -0.0102,  0.0061,  ..., -0.0312,  0.0025,  0.0238],\n",
       "        [-0.0231,  0.0261, -0.0295,  ..., -0.0340, -0.0015, -0.0075],\n",
       "        ...,\n",
       "        [-0.0041, -0.0229,  0.0351,  ...,  0.0240,  0.0064, -0.0356],\n",
       "        [-0.0058, -0.0328,  0.0245,  ..., -0.0204,  0.0306, -0.0053],\n",
       "        [-0.0343,  0.0051,  0.0281,  ..., -0.0106, -0.0303, -0.0153]],\n",
       "       requires_grad=True)"
      ]
     },
     "execution_count": 17,
     "metadata": {},
     "output_type": "execute_result"
    }
   ],
   "source": [
    "print(model[0])\n",
    "model[0].weight"
   ]
  },
  {
   "cell_type": "markdown",
   "metadata": {},
   "source": [
    "You can also pass in an `OrderedDict` to name the individual layers and operations, instead of using incremental integers. Note that dictionary keys must be unique, so _each operation must have a different name_."
   ]
  },
  {
   "cell_type": "code",
   "execution_count": 18,
   "metadata": {},
   "outputs": [
    {
     "data": {
      "text/plain": [
       "Sequential(\n",
       "  (fc1): Linear(in_features=784, out_features=128, bias=True)\n",
       "  (relu1): ReLU()\n",
       "  (fc2): Linear(in_features=128, out_features=64, bias=True)\n",
       "  (relu2): ReLU()\n",
       "  (output): Linear(in_features=64, out_features=10, bias=True)\n",
       "  (softmax): Softmax()\n",
       ")"
      ]
     },
     "execution_count": 18,
     "metadata": {},
     "output_type": "execute_result"
    }
   ],
   "source": [
    "from collections import OrderedDict\n",
    "model = nn.Sequential(OrderedDict([\n",
    "                      ('fc1', nn.Linear(input_size, hidden_sizes[0])),\n",
    "                      ('relu1', nn.ReLU()),\n",
    "                      ('fc2', nn.Linear(hidden_sizes[0], hidden_sizes[1])),\n",
    "                      ('relu2', nn.ReLU()),\n",
    "                      ('output', nn.Linear(hidden_sizes[1], output_size)),\n",
    "                      ('softmax', nn.Softmax(dim=1))]))\n",
    "model"
   ]
  },
  {
   "cell_type": "markdown",
   "metadata": {},
   "source": [
    "Now you can access layers either by integer or the name"
   ]
  },
  {
   "cell_type": "code",
   "execution_count": 19,
   "metadata": {},
   "outputs": [
    {
     "name": "stdout",
     "output_type": "stream",
     "text": [
      "Linear(in_features=784, out_features=128, bias=True)\n",
      "Linear(in_features=784, out_features=128, bias=True)\n"
     ]
    }
   ],
   "source": [
    "print(model[0])\n",
    "print(model.fc1)"
   ]
  },
  {
   "cell_type": "markdown",
   "metadata": {},
   "source": [
    "In the next notebook, we'll see how we can train a neural network to accuractly predict the numbers appearing in the MNIST images."
   ]
  }
 ],
 "metadata": {
  "kernelspec": {
   "display_name": "Python 3",
   "language": "python",
   "name": "python3"
  },
  "language_info": {
   "codemirror_mode": {
    "name": "ipython",
    "version": 3
   },
   "file_extension": ".py",
   "mimetype": "text/x-python",
   "name": "python",
   "nbconvert_exporter": "python",
   "pygments_lexer": "ipython3",
   "version": "3.6.5"
  }
 },
 "nbformat": 4,
 "nbformat_minor": 2
}
