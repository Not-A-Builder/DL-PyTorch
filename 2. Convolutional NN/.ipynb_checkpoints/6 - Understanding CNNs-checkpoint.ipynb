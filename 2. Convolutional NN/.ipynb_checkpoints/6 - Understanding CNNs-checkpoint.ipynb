{
 "cells": [
  {
   "cell_type": "markdown",
   "metadata": {},
   "source": [
    "### Advantages of CNNs?\n",
    "\n",
    "The main advantage of a CNN over a normal MLP (Multi-Layer Perceptron) is that instead of flattening a 2D image into a vector, we can actually feed as input the matrices to the CNNs.\n",
    "\n",
    "![cnn_v_mlp](img/cnn_v_mlp.png)"
   ]
  },
  {
   "cell_type": "markdown",
   "metadata": {},
   "source": [
    "So, what happens is that multiple portions of an image, are fed as input to hidden layers.  \n",
    "\n",
    "This is shown in this image of the digit 7.  \n",
    "The CNN actually visualises each of the 4 different colour-coded segments individually and trains itself accordingly.  \n",
    "\n",
    "![a](img/cnn_2.png)"
   ]
  },
  {
   "cell_type": "markdown",
   "metadata": {},
   "source": [
    "### The Working\n",
    "\n",
    "We now have 2 collections of hidden nodes, according to the picture below.  \n",
    "Each of the 2 collections have nodes responsible for visualising and examining different portions of the image.  \n",
    "\n",
    "It is also good to have each of the hidden nodes within a collection to have a common group of weights.  \n",
    "The idea is that different regions within the image will share the same kind of information.  \n",
    "In other words, any pattern that's relevant towrads understanding the image, could appear anywhere within the image.  \n",
    "For instance, it is not mandatory for a photo of a cat, to have the face of the cat in the dead centre of the photo. The face could be anywhere, but then it would still be a photo of the cat, and our goal is to properly identify it.  \n",
    "\n",
    "![a](img/cnn3.png)"
   ]
  },
  {
   "cell_type": "markdown",
   "metadata": {},
   "source": [
    "## A CNN can remember spatial information\n",
    "\n",
    "CNNs look at images as a whole or in patches and analyse groups of pixels at a time.  \n",
    "The key to preserving the spatial information is what is called the **convolutional layer**."
   ]
  },
  {
   "cell_type": "markdown",
   "metadata": {},
   "source": [
    "A convolutional layer applies a series of image filters also called Convolutional Kernels to an input image.\n",
    "\n",
    "![4](img/cnn4.png)\n",
    "\n",
    "The resulting filtered images have different appearances. The filters may have extracted features like the edges of objects or the colours that distinguish the different classes of images. \n",
    "\n",
    "![5](img/cnn5.png)"
   ]
  }
 ],
 "metadata": {
  "kernelspec": {
   "display_name": "Python 3",
   "language": "python",
   "name": "python3"
  },
  "language_info": {
   "codemirror_mode": {
    "name": "ipython",
    "version": 3
   },
   "file_extension": ".py",
   "mimetype": "text/x-python",
   "name": "python",
   "nbconvert_exporter": "python",
   "pygments_lexer": "ipython3",
   "version": "3.6.5"
  }
 },
 "nbformat": 4,
 "nbformat_minor": 2
}
