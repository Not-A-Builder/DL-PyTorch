{
 "cells": [
  {
   "cell_type": "markdown",
   "metadata": {},
   "source": [
    "### What are CNN's?\n",
    "\n",
    "CNNs, like neural networks, are made up of neurons with learnable weights and biases. Each neuron receives several inputs, takes a weighted sum over them, pass it through an activation function and responds with an output. The whole network has a loss function and all the tips and tricks that had been developed for neural networks still apply on CNNs. \n",
    "\n",
    "Pretty straightforward, right?"
   ]
  },
  {
   "cell_type": "markdown",
   "metadata": {},
   "source": [
    "### How are Convolutional Neural Networks different than Neural Networks?\n",
    "\n",
    "• CNN's operate over volumes. Unlike neural networks, where the input is a vector, here the input is a multi-channeled image.  \n",
    "• The convolution layer is the main building block of a convolutional neural network.  \n",
    "• For a particular feature map (the output received on convolving the image with a particular filter is called a feature map), each neuron is connected only to a small chunk of the input image and all the neurons have the same connection weights.  \n",
    "\n",
    "##### Parameter Sharing:\n",
    "Parameter sharing is sharing of weights by all neurons in a particular feature map.\n",
    "\n",
    "##### Local Connectivity:\n",
    "Local connectivity is the concept of each neural connected only to a subset of the input image (unlike a neural network where all the neurons are fully connected).  \n",
    "\n",
    "This helps to reduce the number of parameters in the whole system and makes the computation more efficient."
   ]
  },
  {
   "cell_type": "markdown",
   "metadata": {},
   "source": [
    "### Typical CNN Architecture\n",
    "\n",
    "![Typical CNN Architecture](img/CNN-architecture.png)"
   ]
  },
  {
   "cell_type": "markdown",
   "metadata": {},
   "source": [
    "In the image above, you can see the convolution layers (denoted by CONV) and pooling layers (denoted by POOL).  \n",
    "\n",
    "RELU is just a non linearity which is applied similar to neural networks.  \n",
    "\n",
    "The FC is the fully connected layer of neurons at the end of CNN. Neurons in a fully connected layer have full connections to all activations in the previous layer, as seen in regular Neural Networks and work in a similar way.  "
   ]
  },
  {
   "cell_type": "markdown",
   "metadata": {},
   "source": [
    "## Applications of CNN's\n",
    "\n",
    "1. Voice-user interfaces.  \n",
    "2. NLP (RNN's are more frequently used than CNN's)  \n",
    "3. Computer Vision.  "
   ]
  },
  {
   "cell_type": "markdown",
   "metadata": {},
   "source": [
    "#### WaveNet Model\n",
    "\n",
    "WaveNets open up a lot of possibilities for TTS, music generation and audio modelling in general. The fact that directly generating timestep per timestep with deep neural networks works at all for 16kHz audio is really surprising, let alone that it outperforms state-of-the-art TTS systems.  \n",
    "\n",
    "Original Paper and Demo: http://www.creativeai.net/posts/W2C3baXvf2yJSLbY6/a-neural-parametric-singing-synthesizer  \n",
    "For details: https://deepmind.com/blog/wavenet-generative-model-raw-audio/"
   ]
  },
  {
   "cell_type": "markdown",
   "metadata": {},
   "source": [
    "#### CNN for Text Classification\n",
    "\n",
    "Read in details at http://www.wildml.com/2015/12/implementing-a-cnn-for-text-classification-in-tensorflow/  \n",
    "\n",
    "#### Language Translation by Facebook\n",
    "\n",
    "A novel CNN approach that achieves state-of-the-art accuracy at nine times the speed of RNN models!  \n",
    "Read about it here: https://code.facebook.com/posts/1978007565818999/a-novel-approach-to-neural-machine-translation/  "
   ]
  },
  {
   "cell_type": "markdown",
   "metadata": {},
   "source": []
  }
 ],
 "metadata": {
  "kernelspec": {
   "display_name": "Python 3",
   "language": "python",
   "name": "python3"
  },
  "language_info": {
   "codemirror_mode": {
    "name": "ipython",
    "version": 3
   },
   "file_extension": ".py",
   "mimetype": "text/x-python",
   "name": "python",
   "nbconvert_exporter": "python",
   "pygments_lexer": "ipython3",
   "version": "3.6.5"
  }
 },
 "nbformat": 4,
 "nbformat_minor": 2
}
