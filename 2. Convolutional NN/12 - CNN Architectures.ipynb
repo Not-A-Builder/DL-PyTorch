{
 "cells": [
  {
   "cell_type": "markdown",
   "metadata": {},
   "source": [
    "### AlexNet Paper\n",
    "\n",
    "Check it out here: http://papers.nips.cc/paper/4824-imagenet-classification-with-deep-convolutional-neural-networks.pdf\n",
    "\n",
    "### VGGNet\n",
    "\n",
    "Read about it more here: https://arxiv.org/pdf/1409.1556.pdf\n",
    "\n",
    "### ResNet\n",
    "\n",
    "Check out the paper here: https://arxiv.org/pdf/1512.03385v1.pdf\n",
    "\n",
    "### Keras\n",
    "\n",
    "Documentations for some common CNN architectures: https://keras.io/applications/\n",
    "\n",
    "### Vanishing Gradients\n",
    "\n",
    "Treatment of this problem: http://neuralnetworksanddeeplearning.com/chap5.html\n",
    "\n",
    "### GitHub repo for different CNN benchmark architectures\n",
    "\n",
    "Check it out here: https://github.com/jcjohnson/cnn-benchmarks\n",
    "\n",
    "### ImageNet\n",
    "\n",
    "The website: http://www.image-net.org/challenges/LSVRC/"
   ]
  }
 ],
 "metadata": {
  "kernelspec": {
   "display_name": "Python 3",
   "language": "python",
   "name": "python3"
  },
  "language_info": {
   "codemirror_mode": {
    "name": "ipython",
    "version": 3
   },
   "file_extension": ".py",
   "mimetype": "text/x-python",
   "name": "python",
   "nbconvert_exporter": "python",
   "pygments_lexer": "ipython3",
   "version": "3.6.5"
  }
 },
 "nbformat": 4,
 "nbformat_minor": 2
}
