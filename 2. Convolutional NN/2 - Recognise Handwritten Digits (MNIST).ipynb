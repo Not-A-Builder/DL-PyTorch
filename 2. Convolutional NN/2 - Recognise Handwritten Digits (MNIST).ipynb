{
 "cells": [
  {
   "cell_type": "markdown",
   "metadata": {},
   "source": [
    "### How can Deep Learning be used to identify a single object in an image.\n",
    "\n",
    "We want to design an image classifier that takes as input a hand-written digit and predicts what the digit actually is. The class ideally correctly identifies the given image.  \n",
    "\n",
    "To build this we will use the MNIST database:  \n",
    "A collection of 70,000 grayscale images of hand-written digits.  \n",
    "Each image depicts one of the digits 0 through to 9.  \n",
    "All the images are 28x28 pixels in dimensions.  \n",
    "This is perhaps one of the most famous databases in the fields of ML and DL.\n",
    "\n",
    "Using Deep Learning we will take a data driven approach to make use of algorithms to find patterns that will help us to distinguish one number from another.  \n",
    "\n",
    "Check out the most popular datasets of all time at https://www.kaggle.com/benhamner/popular-datasets-over-time"
   ]
  },
  {
   "cell_type": "markdown",
   "metadata": {},
   "source": [
    "#### The MNIST database\n",
    "\n",
    "![MNIST](img/mnist.png)"
   ]
  },
  {
   "cell_type": "markdown",
   "metadata": {},
   "source": [
    "### Normalizing Image Inputs\n",
    "\n",
    "Data normalization is an important pre-processing step. It ensures that each input (each pixel value, in this case) comes from a standard distribution. That is, the range of pixel values in one input image are the same as the range in another image. This standardization makes our model train and reach a minimum error, faster!  \n",
    "\n",
    "Data normalization is typically done by subtracting the mean (the average of all pixel values) from each pixel, and then dividing the result by the standard deviation of all the pixel values. Sometimes you'll see an approximation here, where we use a mean and standard deviation of 0.5 to center the pixel values. Read more about the Normalize transformation in PyTorch at https://pytorch.org/docs/stable/torchvision/transforms.html#transforms-on-torch-tensor  \n",
    "\n",
    "The distribution of such data should resemble a Gaussian function (http://mathworld.wolfram.com/GaussianFunction.html) centered at zero. For image inputs we need the pixel numbers to be positive, so we often choose to scale the data in a normalized range [0,1]."
   ]
  },
  {
   "cell_type": "markdown",
   "metadata": {},
   "source": [
    "#### Input Output Layers\n",
    "\n",
    "![io-layer](img/io-layer.png)\n",
    "\n",
    "#### Class Score Predictions\n",
    "\n",
    "![class-scores](img/class-scores.png)\n",
    "\n",
    "#### Layers' Architecture\n",
    "\n",
    "![CNN architecture](img/layer-architecture.png)"
   ]
  }
 ],
 "metadata": {
  "kernelspec": {
   "display_name": "Python 3",
   "language": "python",
   "name": "python3"
  },
  "language_info": {
   "codemirror_mode": {
    "name": "ipython",
    "version": 3
   },
   "file_extension": ".py",
   "mimetype": "text/x-python",
   "name": "python",
   "nbconvert_exporter": "python",
   "pygments_lexer": "ipython3",
   "version": "3.6.5"
  }
 },
 "nbformat": 4,
 "nbformat_minor": 2
}
