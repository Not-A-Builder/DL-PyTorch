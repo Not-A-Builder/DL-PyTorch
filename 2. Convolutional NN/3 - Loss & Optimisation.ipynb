{
 "cells": [
  {
   "cell_type": "markdown",
   "metadata": {},
   "source": [
    "### How does the entire structure of the multi-layer Perceptron learn from the MNIST data?\n",
    "\n",
    "What happens when it actually sees an input image?  \n",
    "\n",
    "### Take for example the digit 2.\n",
    "\n",
    "![1](img/3_1.png)\n",
    "\n",
    "We can see that it is misclassifying the digit as 8 instead of 2.  \n",
    "So what we need to do is learn from the mistakes.  \n",
    "But, **HOW**?\n",
    "\n",
    "![2](img/3_2.png)"
   ]
  },
  {
   "cell_type": "markdown",
   "metadata": {},
   "source": []
  },
  {
   "cell_type": "markdown",
   "metadata": {},
   "source": []
  }
 ],
 "metadata": {
  "kernelspec": {
   "display_name": "Python 3",
   "language": "python",
   "name": "python3"
  },
  "language_info": {
   "codemirror_mode": {
    "name": "ipython",
    "version": 3
   },
   "file_extension": ".py",
   "mimetype": "text/x-python",
   "name": "python",
   "nbconvert_exporter": "python",
   "pygments_lexer": "ipython3",
   "version": "3.6.5"
  }
 },
 "nbformat": 4,
 "nbformat_minor": 2
}
