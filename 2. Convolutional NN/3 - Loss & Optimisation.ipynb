{
 "cells": [
  {
   "cell_type": "markdown",
   "metadata": {},
   "source": [
    "### How does the entire structure of the multi-layer Perceptron learn from the MNIST data?\n",
    "\n",
    "What happens when it actually sees an input image?  \n",
    "\n",
    "### Take for example the digit 2.\n",
    "\n",
    "![1](img/3_1.png)\n",
    "\n",
    "We can see that it is misclassifying the digit as 8 instead of 2.  \n",
    "So what we need to do is learn from the mistakes.  \n",
    "But, **HOW**?\n",
    "\n",
    "![2](img/3_2.png)"
   ]
  },
  {
   "cell_type": "markdown",
   "metadata": {},
   "source": [
    "### Softmax Function is used!\n",
    "\n",
    "![3](img/3_3.png)"
   ]
  },
  {
   "cell_type": "markdown",
   "metadata": {},
   "source": [
    "### Loss is computed!\n",
    "\n",
    "![4](img/3_4.png)"
   ]
  },
  {
   "cell_type": "markdown",
   "metadata": {},
   "source": [
    "### But suppose it classified correctly...\n",
    "\n",
    "![5](img/3_5.png)"
   ]
  },
  {
   "cell_type": "markdown",
   "metadata": {},
   "source": [
    "#### Then the loss would be smaller, evidently!\n",
    "\n",
    "### Our aim is to **MINIMISE the LOSS**\n",
    "\n",
    "![6](img/3_6.png)"
   ]
  },
  {
   "cell_type": "markdown",
   "metadata": {},
   "source": [
    "### Gradient Descent returns!\n",
    "\n",
    "![7](img/3_7.png)\n",
    "\n",
    "### There are many optimizers and each of them have separate success-rates for different scenarios.\n",
    "\n",
    "Try them out in code!\n",
    "\n",
    "![8](img/3_8.png)"
   ]
  }
 ],
 "metadata": {
  "kernelspec": {
   "display_name": "Python 3",
   "language": "python",
   "name": "python3"
  },
  "language_info": {
   "codemirror_mode": {
    "name": "ipython",
    "version": 3
   },
   "file_extension": ".py",
   "mimetype": "text/x-python",
   "name": "python",
   "nbconvert_exporter": "python",
   "pygments_lexer": "ipython3",
   "version": "3.6.5"
  }
 },
 "nbformat": 4,
 "nbformat_minor": 2
}
