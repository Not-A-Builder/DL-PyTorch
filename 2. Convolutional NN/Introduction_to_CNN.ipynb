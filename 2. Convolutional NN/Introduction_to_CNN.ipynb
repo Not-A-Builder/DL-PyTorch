{
 "cells": [
  {
   "cell_type": "markdown",
   "metadata": {},
   "source": [
    "### What are CNN's?\n",
    "\n",
    "CNNs, like neural networks, are made up of neurons with learnable weights and biases. Each neuron receives several inputs, takes a weighted sum over them, pass it through an activation function and responds with an output. The whole network has a loss function and all the tips and tricks that had been developed for neural networks still apply on CNNs. \n",
    "\n",
    "Pretty straightforward, right?"
   ]
  },
  {
   "cell_type": "markdown",
   "metadata": {},
   "source": [
    "### How are Convolutional Neural Networks different than Neural Networks?\n",
    "\n",
    "• CNN's operate over volumes. Unlike neural networks, where the input is a vector, here the input is a multi-channeled image.  \n",
    "• The convolution layer is the main building block of a convolutional neural network.  \n",
    "• For a particular feature map (the output received on convolving the image with a particular filter is called a feature map), each neuron is connected only to a small chunk of the input image and all the neurons have the same connection weights.  \n",
    "\n",
    "##### Parameter Sharing:\n",
    "Parameter sharing is sharing of weights by all neurons in a particular feature map.\n",
    "\n",
    "##### Local Connectivity:\n",
    "Local connectivity is the concept of each neural connected only to a subset of the input image (unlike a neural network where all the neurons are fully connected).  \n",
    "\n",
    "This helps to reduce the number of parameters in the whole system and makes the computation more efficient."
   ]
  },
  {
   "cell_type": "markdown",
   "metadata": {},
   "source": [
    "### Typical CNN Architecture\n",
    "\n",
    "![Typical CNN Architecture](img/CNN-architecture.png)"
   ]
  },
  {
   "cell_type": "markdown",
   "metadata": {},
   "source": [
    "In the image above, you can see the convolution layers (denoted by CONV) and pooling layers (denoted by POOL).  \n",
    "\n",
    "RELU is just a non linearity which is applied similar to neural networks.  \n",
    "\n",
    "The FC is the fully connected layer of neurons at the end of CNN. Neurons in a fully connected layer have full connections to all activations in the previous layer, as seen in regular Neural Networks and work in a similar way.  "
   ]
  },
  {
   "cell_type": "markdown",
   "metadata": {},
   "source": [
    "## Applications of CNN's\n",
    "\n",
    "1. Voice-user interfaces.  \n",
    "2. NLP (RNN's are more frequently used than CNN's)  \n",
    "3. Computer Vision."
   ]
  },
  {
   "cell_type": "markdown",
   "metadata": {},
   "source": [
    "#### WaveNet Model\n",
    "\n",
    "WaveNets open up a lot of possibilities for TTS, music generation and audio modelling in general. The fact that directly generating timestep per timestep with deep neural networks works at all for 16kHz audio is really surprising, let alone that it outperforms state-of-the-art TTS systems.  \n",
    "\n",
    "Original Paper and Demo: http://www.creativeai.net/posts/W2C3baXvf2yJSLbY6/a-neural-parametric-singing-synthesizer  \n",
    "For details: https://deepmind.com/blog/wavenet-generative-model-raw-audio/"
   ]
  },
  {
   "cell_type": "markdown",
   "metadata": {},
   "source": [
    "#### CNN for Text Classification\n",
    "\n",
    "Read in details at http://www.wildml.com/2015/12/implementing-a-cnn-for-text-classification-in-tensorflow/  \n",
    "\n",
    "#### Language Translation by Facebook\n",
    "\n",
    "A novel CNN approach that achieves state-of-the-art accuracy at nine times the speed of RNN models!  \n",
    "Read about it here: https://code.facebook.com/posts/1978007565818999/a-novel-approach-to-neural-machine-translation/  "
   ]
  },
  {
   "cell_type": "markdown",
   "metadata": {},
   "source": [
    "### Gaming with CNN\n",
    "\n",
    "• Atari: Using CNN and reinforcement learning, you can play Atari games.\n",
    "\n",
    "The game: https://deepmind.com/research/dqn/  \n",
    "The code for the paper: https://sites.google.com/a/deepmind.com/dqn/  \n",
    "\n",
    "If you would like to play around with some beginner code (for deep reinforcement learning), you're encouraged to check out Andrej Karpathy's post at http://karpathy.github.io/2016/05/31/rl/\n",
    "\n",
    "• Pictionary: https://quickdraw.withgoogle.com/#  \n",
    "Also check out other cool implementations on the AI experiments webiste at https://aiexperiments.withgoogle.com/  \n",
    "Be sure not to miss AutoDraw (https://www.autodraw.com/)!  \n",
    "\n",
    "• AlphaGo: If mastering Go \"requires human intuition\", what is it like to have a piece of one's humanity challenged? Check out the game at https://deepmind.com/research/alphago/  \n",
    "Also, do give this article a read: https://www.technologyreview.com/s/604273/finding-solace-in-defeat-by-artificial-intelligence/?set=604287  "
   ]
  },
  {
   "cell_type": "markdown",
   "metadata": {},
   "source": [
    "### Drones with CNN\n",
    "\n",
    "Check out these really cool videos with drones that are powered by CNNs.  \n",
    "\n",
    "Here's an interview with a startup - Intelligent Flying Machines (IFM).  https://www.youtube.com/watch?v=AMDiR61f86Y  \n",
    "\n",
    "Outdoor autonomous navigation is typically accomplished through the use of the global positioning system (GPS), but here's a demo with a CNN-powered autonomous drone.  \n",
    "GPS: http://www.droneomega.com/gps-drone-navigation-works/  \n",
    "The drone: https://www.youtube.com/watch?v=wSFYOw4VIYY"
   ]
  },
  {
   "cell_type": "markdown",
   "metadata": {},
   "source": [
    "### Autonomous Driving with CNN\n",
    "\n",
    "Here's a series of blog posts that details how to train a CNN in Python to produce a self-driving AI to play Grand Theft Auto V!  \n",
    "From none other than sentdex!  \n",
    "\n",
    "https://pythonprogramming.net/game-frames-open-cv-python-plays-gta-v/"
   ]
  },
  {
   "cell_type": "markdown",
   "metadata": {},
   "source": [
    "### Additional Applications\n",
    "\n",
    "Some of the world's most famous paintings have been turned into 3D for the visually impaired. Although the article does not mention \"how\" this was done, it can be done possibly using a CNN to predict depth from a single image.  \n",
    "\n",
    "Check them out here http://www.businessinsider.com/3d-printed-works-of-art-for-the-blind-2016-1  \n",
    "and, in this way https://www.cs.nyu.edu/~deigen/depth/  \n",
    "\n",
    "• CNN's are being used to localise breast cancer.  \n",
    "Check it out at https://research.googleblog.com/2017/03/assisting-pathologists-in-detecting.html  \n",
    "\n",
    "• CNN's are being used to saave endangered species, at https://blogs.nvidia.com/blog/2016/11/04/saving-endangered-species/?adbsc=social_20170303_70517416  \n",
    "\n",
    "• In an app called FaceApp, a CNN is used to make you smile or even change genders!  \n",
    "Check it out at http://www.digitaltrends.com/photography/faceapp-neural-net-image-editing/"
   ]
  }
 ],
 "metadata": {
  "kernelspec": {
   "display_name": "Python 3",
   "language": "python",
   "name": "python3"
  },
  "language_info": {
   "codemirror_mode": {
    "name": "ipython",
    "version": 3
   },
   "file_extension": ".py",
   "mimetype": "text/x-python",
   "name": "python",
   "nbconvert_exporter": "python",
   "pygments_lexer": "ipython3",
   "version": "3.6.5"
  }
 },
 "nbformat": 4,
 "nbformat_minor": 2
}
