{
 "cells": [
  {
   "cell_type": "markdown",
   "metadata": {},
   "source": [
    "### What are CNN's?\n",
    "\n",
    "CNNs, like neural networks, are made up of neurons with learnable weights and biases. Each neuron receives several inputs, takes a weighted sum over them, pass it through an activation function and responds with an output. The whole network has a loss function and all the tips and tricks that had been developed for neural networks still apply on CNNs. \n",
    "\n",
    "Pretty straightforward, right?"
   ]
  },
  {
   "cell_type": "markdown",
   "metadata": {},
   "source": [
    "### How are Convolutional Neural Networks different than Neural Networks?\n",
    "\n",
    "• CNN's operate over volumes. Unlike neural networks, where the input is a vector, here the input is a multi-channeled image.  \n",
    "• The convolution layer is the main building block of a convolutional neural network.  \n",
    "• For a particular feature map (the output received on convolving the image with a particular filter is called a feature map), each neuron is connected only to a small chunk of the input image and all the neurons have the same connection weights.  \n",
    "\n",
    "##### Parameter Sharing:\n",
    "Parameter sharing is sharing of weights by all neurons in a particular feature map.\n",
    "\n",
    "##### Local Connectivity:\n",
    "Local connectivity is the concept of each neural connected only to a subset of the input image (unlike a neural network where all the neurons are fully connected).  \n",
    "\n",
    "This helps to reduce the number of parameters in the whole system and makes the computation more efficient."
   ]
  },
  {
   "cell_type": "markdown",
   "metadata": {},
   "source": [
    "![Typical CNN Architecture](https://medium.com/technologymadeeasy/the-best-explanation-of-convolutional-neural-networks-on-the-internet-fbb8b1ad5df8)"
   ]
  },
  {
   "cell_type": "code",
   "execution_count": null,
   "metadata": {},
   "outputs": [],
   "source": []
  },
  {
   "cell_type": "code",
   "execution_count": null,
   "metadata": {},
   "outputs": [],
   "source": []
  }
 ],
 "metadata": {
  "kernelspec": {
   "display_name": "Python 3",
   "language": "python",
   "name": "python3"
  },
  "language_info": {
   "codemirror_mode": {
    "name": "ipython",
    "version": 3
   },
   "file_extension": ".py",
   "mimetype": "text/x-python",
   "name": "python",
   "nbconvert_exporter": "python",
   "pygments_lexer": "ipython3",
   "version": "3.6.5"
  }
 },
 "nbformat": 4,
 "nbformat_minor": 2
}
