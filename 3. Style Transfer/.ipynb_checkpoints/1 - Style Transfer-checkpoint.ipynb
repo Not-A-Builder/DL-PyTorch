{
 "cells": [
  {
   "cell_type": "markdown",
   "metadata": {},
   "source": [
    "### Separation of Style and Content"
   ]
  },
  {
   "cell_type": "markdown",
   "metadata": {},
   "source": [
    "Before we can superimpose the style of one image onto the content of another image, we need to devise the CNN model in such a way that the style and contents of each image can be separated from one another.  \n",
    "\n",
    "This is important because if we are to merge the style of image B onto image A, we have to:  \n",
    "1. Separate style and content of image A.  \n",
    "2. Separate style and content of image B.  \n",
    "3. Take the style of image B and apply it onto the content of image A to get the new image."
   ]
  },
  {
   "cell_type": "markdown",
   "metadata": {},
   "source": [
    "![1](img/1.png)\n",
    "\n",
    "Here, the maxpooling layers help to effectively separate style from the content, to create what are known as feature maps and consequently content representations."
   ]
  }
 ],
 "metadata": {
  "kernelspec": {
   "display_name": "Python 3",
   "language": "python",
   "name": "python3"
  },
  "language_info": {
   "codemirror_mode": {
    "name": "ipython",
    "version": 3
   },
   "file_extension": ".py",
   "mimetype": "text/x-python",
   "name": "python",
   "nbconvert_exporter": "python",
   "pygments_lexer": "ipython3",
   "version": "3.6.5"
  }
 },
 "nbformat": 4,
 "nbformat_minor": 2
}
