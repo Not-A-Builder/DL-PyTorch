{
 "cells": [
  {
   "cell_type": "markdown",
   "metadata": {},
   "source": [
    "### Gram Matrix\n",
    "\n",
    "A Gram Matrix is just one mathematical way of representing shared and prominent styles.\n",
    "\n",
    "• The style representation fo an image relies on looking at correlations between the individual layers of the VGG19 network.  \n",
    "• In other words, looking at how similar the features in a single layer are.  \n",
    "• Similarities will include the genaral colours and textures found in that layer.  \n",
    "• We typically find these similarities between multiple image in a network.  \n",
    "• By including the correlation between multiple layers of different sizes we can obtain a multi-scale style representation of the input image.\n",
    "\n",
    "![5](img/5.png)"
   ]
  },
  {
   "cell_type": "markdown",
   "metadata": {},
   "source": [
    "### Calculating the Gram Matrix\n",
    "\n",
    "#### Step 1\n",
    "![6](img/6.png)\n",
    "\n",
    "#### Step 2\n",
    "![7](img/7.png)\n",
    "\n",
    "#### Step 3\n",
    "![8](img/8.png)\n",
    "\n",
    "#### Step 4\n",
    "![9](img/9.png)"
   ]
  },
  {
   "cell_type": "markdown",
   "metadata": {},
   "source": [
    "#### The Gram matrix will be a square matrix, with a width and height = to the depth of the convolutional layer in question."
   ]
  },
  {
   "cell_type": "markdown",
   "metadata": {},
   "source": [
    "### Advancement\n",
    "\n",
    "• Style itself is quite like an abstract idea, but the Gram Matrix is the most widely used in practice.  \n",
    "• Now that we have defined the Gram Matrix as having information about the style of a given layer, next we can declare a **style loss** that compares the style differences between the target image and the original image."
   ]
  }
 ],
 "metadata": {
  "kernelspec": {
   "display_name": "Python 3",
   "language": "python",
   "name": "python3"
  },
  "language_info": {
   "codemirror_mode": {
    "name": "ipython",
    "version": 3
   },
   "file_extension": ".py",
   "mimetype": "text/x-python",
   "name": "python",
   "nbconvert_exporter": "python",
   "pygments_lexer": "ipython3",
   "version": "3.6.5"
  }
 },
 "nbformat": 4,
 "nbformat_minor": 2
}
