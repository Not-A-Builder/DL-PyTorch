{
 "cells": [
  {
   "cell_type": "markdown",
   "metadata": {},
   "source": [
    "### What is Style Loss?\n",
    "\n",
    "To calculate the style loss between the target and the style image, we find the mean squared distance between the target and the style images' Gram Matrices.  \n",
    "\n",
    ">All five pairs that are calculated at each layer of the VGG19 architecture  \n",
    ">conv1_1 upto conv5_1\n",
    "\n",
    "![10](img/10.png)"
   ]
  },
  {
   "cell_type": "markdown",
   "metadata": {},
   "source": [
    "The lists are called $S_{s}$ and $T_{s}$. [#LaTeX]  \n",
    "\n",
    "'a' is a constant that accounts for the number of values at each layer.  \n",
    "\n",
    "'w' are the style weights that calculate the weights of the style values depending upon the style loss.  \n",
    "\n",
    "![11](img/11.png)"
   ]
  },
  {
   "cell_type": "markdown",
   "metadata": {},
   "source": [
    "### Total Loss\n",
    "\n",
    "#### Content Loss\n",
    "The difference in content between content image and target image.\n",
    "\n",
    "#### Style Loss\n",
    "The difference in content between style image and target image.\n",
    "\n",
    "![12](img/12.png)\n",
    "\n",
    "#### And the sum of these two losses will give the Total Loss.\n",
    "Now performing backpropagation on the same would eventually help us to understand the adjustments that need to be made."
   ]
  },
  {
   "cell_type": "markdown",
   "metadata": {},
   "source": [
    "![13](img/13.png)\n",
    "![14](img/14.png)\n",
    "![15](img/15.png)"
   ]
  }
 ],
 "metadata": {
  "kernelspec": {
   "display_name": "Python 3",
   "language": "python",
   "name": "python3"
  },
  "language_info": {
   "codemirror_mode": {
    "name": "ipython",
    "version": 3
   },
   "file_extension": ".py",
   "mimetype": "text/x-python",
   "name": "python",
   "nbconvert_exporter": "python",
   "pygments_lexer": "ipython3",
   "version": "3.6.5"
  }
 },
 "nbformat": 4,
 "nbformat_minor": 2
}
