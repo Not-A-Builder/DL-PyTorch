{
 "cells": [
  {
   "cell_type": "markdown",
   "metadata": {},
   "source": [
    "### VGG19 Architecture\n",
    "\n",
    "This is a 19-layer VGG network.  \n",
    "\n",
    ">It usually refers to a deep convolutional network for object recognition developed and trained by Oxford's renowned Visual Geometry Group (VGG). \n",
    ">It achieved very good performance on the ImageNet dataset.\n",
    "\n",
    "Here the first layer takes as input a coloured image and passes it through 5 convolutional layers, each separated from another by maxpooling layers and then passes the output through 3 fully-connected layers.    \n",
    "The first convolotuional layer is labelled conv1_1 and the deepest convolutional layer is labelled conv5_4.  \n",
    "\n",
    "![2](img/2.png)"
   ]
  }
 ],
 "metadata": {
  "kernelspec": {
   "display_name": "Python 3",
   "language": "python",
   "name": "python3"
  },
  "language_info": {
   "codemirror_mode": {
    "name": "ipython",
    "version": 3
   },
   "file_extension": ".py",
   "mimetype": "text/x-python",
   "name": "python",
   "nbconvert_exporter": "python",
   "pygments_lexer": "ipython3",
   "version": "3.6.5"
  }
 },
 "nbformat": 4,
 "nbformat_minor": 2
}
